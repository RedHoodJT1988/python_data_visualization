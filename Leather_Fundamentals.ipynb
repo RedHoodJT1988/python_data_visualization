{
 "cells": [
  {
   "cell_type": "code",
   "execution_count": 18,
   "metadata": {},
   "outputs": [
    {
     "name": "stderr",
     "output_type": "stream",
     "text": [
      "C:\\Users\\jonat\\anaconda3\\lib\\site-packages\\ipykernel\\ipkernel.py:287: DeprecationWarning: `should_run_async` will not call `transform_cell` automatically in the future. Please pass the result to `transformed_cell` argument and any exception that happen during thetransform in `preprocessing_exc_tuple` in IPython 7.17 and above.\n",
      "ERROR: unknown command \"update\"\n",
      "\n",
      "C:\\Users\\jonat\\anaconda3\\lib\\site-packages\\IPython\\utils\\_process_win32.py:145: ResourceWarning: unclosed file <_io.BufferedWriter name=4>\n",
      "C:\\Users\\jonat\\anaconda3\\lib\\site-packages\\IPython\\utils\\_process_win32.py:145: ResourceWarning: unclosed file <_io.BufferedReader name=5>\n",
      "C:\\Users\\jonat\\anaconda3\\lib\\site-packages\\IPython\\utils\\_process_win32.py:145: ResourceWarning: unclosed file <_io.BufferedReader name=6>\n"
     ]
    }
   ],
   "source": [
    "!pip update pip"
   ]
  },
  {
   "cell_type": "code",
   "execution_count": 4,
   "metadata": {},
   "outputs": [
    {
     "name": "stdout",
     "output_type": "stream",
     "text": [
      "Odd\n"
     ]
    }
   ],
   "source": [
    "a = 3\n",
    "if a % 2 == 0:\n",
    "    print('Even')\n",
    "else:\n",
    "    print('Odd')"
   ]
  },
  {
   "cell_type": "code",
   "execution_count": 5,
   "metadata": {},
   "outputs": [
    {
     "name": "stdout",
     "output_type": "stream",
     "text": [
      "The Zen of Python, by Tim Peters\n",
      "\n",
      "Beautiful is better than ugly.\n",
      "Explicit is better than implicit.\n",
      "Simple is better than complex.\n",
      "Complex is better than complicated.\n",
      "Flat is better than nested.\n",
      "Sparse is better than dense.\n",
      "Readability counts.\n",
      "Special cases aren't special enough to break the rules.\n",
      "Although practicality beats purity.\n",
      "Errors should never pass silently.\n",
      "Unless explicitly silenced.\n",
      "In the face of ambiguity, refuse the temptation to guess.\n",
      "There should be one-- and preferably only one --obvious way to do it.\n",
      "Although that way may not be obvious at first unless you're Dutch.\n",
      "Now is better than never.\n",
      "Although never is often better than *right* now.\n",
      "If the implementation is hard to explain, it's a bad idea.\n",
      "If the implementation is easy to explain, it may be a good idea.\n",
      "Namespaces are one honking great idea -- let's do more of those!\n"
     ]
    }
   ],
   "source": [
    "import this"
   ]
  },
  {
   "cell_type": "code",
   "execution_count": 6,
   "metadata": {},
   "outputs": [],
   "source": [
    "import leather"
   ]
  },
  {
   "cell_type": "code",
   "execution_count": 8,
   "metadata": {},
   "outputs": [
    {
     "name": "stderr",
     "output_type": "stream",
     "text": [
      "C:\\Users\\jonat\\anaconda3\\lib\\site-packages\\ipykernel\\ipkernel.py:287: DeprecationWarning: `should_run_async` will not call `transform_cell` automatically in the future. Please pass the result to `transformed_cell` argument and any exception that happen during thetransform in `preprocessing_exc_tuple` in IPython 7.17 and above.\n"
     ]
    },
    {
     "data": {
      "text/plain": [
       "[(1.5, 2), (2, 3), (4.5, 6), (7.5, 4)]"
      ]
     },
     "execution_count": 8,
     "metadata": {},
     "output_type": "execute_result"
    }
   ],
   "source": [
    "data1 = [(1.5, 2), (2, 3), (4.5, 6), (7.5, 4)]\n",
    "data1"
   ]
  },
  {
   "cell_type": "code",
   "execution_count": 9,
   "metadata": {},
   "outputs": [
    {
     "name": "stderr",
     "output_type": "stream",
     "text": [
      "C:\\Users\\jonat\\anaconda3\\lib\\site-packages\\ipykernel\\ipkernel.py:287: DeprecationWarning: `should_run_async` will not call `transform_cell` automatically in the future. Please pass the result to `transformed_cell` argument and any exception that happen during thetransform in `preprocessing_exc_tuple` in IPython 7.17 and above.\n"
     ]
    },
    {
     "data": {
      "image/svg+xml": [
       "<svg xmlns=\"http://www.w3.org/2000/svg\" width=\"800\" height=\"600\" version=\"1.1\"><g><rect x=\"0\" y=\"0\" width=\"800\" height=\"600\" fill=\"#f9f9f9\"/><g transform=\"translate(40 40)\"><g transform=\"translate(16 0)\"><text x=\"0\" y=\"0\" fill=\"#333\" font-family=\"Monaco\" font-size=\"16\">Simple pairs of x-y</text></g><g transform=\"translate(0 20)\"><g transform=\"translate(16 0)\"><g class=\"axis bottom\"><g class=\"tick\"><line x1=\"234.6666666666666666666666666\" y1=\"0\" x2=\"234.6666666666666666666666666\" y2=\"482.0\" stroke=\"#eee\" stroke-width=\"1\"/><text x=\"234.6666666666666666666666666\" y=\"486.0\" dy=\"1em\" fill=\"#9c9c9c\" text-anchor=\"middle\" font-family=\"Monaco\">2.5</text></g><g class=\"tick\"><line x1=\"469.3333333333333333333333334\" y1=\"0\" x2=\"469.3333333333333333333333334\" y2=\"482.0\" stroke=\"#eee\" stroke-width=\"1\"/><text x=\"469.3333333333333333333333334\" y=\"486.0\" dy=\"1em\" fill=\"#9c9c9c\" text-anchor=\"middle\" font-family=\"Monaco\">5</text></g><g class=\"tick\"><line x1=\"704\" y1=\"0\" x2=\"704\" y2=\"482.0\" stroke=\"#eee\" stroke-width=\"1\"/><text x=\"704\" y=\"486.0\" dy=\"1em\" fill=\"#9c9c9c\" text-anchor=\"middle\" font-family=\"Monaco\">7.5</text></g><g class=\"tick\"><line x1=\"0\" y1=\"0\" x2=\"0\" y2=\"482.0\" stroke=\"#a8a8a8\" stroke-width=\"1\"/><text x=\"0\" y=\"486.0\" dy=\"1em\" fill=\"#9c9c9c\" text-anchor=\"middle\" font-family=\"Monaco\">0</text></g></g><g class=\"axis left\"><g class=\"tick\"><line x1=\"-4\" y1=\"478\" x2=\"704.0\" y2=\"478\" stroke=\"#eee\" stroke-width=\"1\"/><text x=\"-8\" y=\"478\" dy=\"0.32em\" fill=\"#9c9c9c\" text-anchor=\"end\" font-family=\"Monaco\">2</text></g><g class=\"tick\"><line x1=\"-4\" y1=\"358.50\" x2=\"704.0\" y2=\"358.50\" stroke=\"#eee\" stroke-width=\"1\"/><text x=\"-8\" y=\"358.50\" dy=\"0.32em\" fill=\"#9c9c9c\" text-anchor=\"end\" font-family=\"Monaco\">3</text></g><g class=\"tick\"><line x1=\"-4\" y1=\"239.0\" x2=\"704.0\" y2=\"239.0\" stroke=\"#eee\" stroke-width=\"1\"/><text x=\"-8\" y=\"239.0\" dy=\"0.32em\" fill=\"#9c9c9c\" text-anchor=\"end\" font-family=\"Monaco\">4</text></g><g class=\"tick\"><line x1=\"-4\" y1=\"119.50\" x2=\"704.0\" y2=\"119.50\" stroke=\"#eee\" stroke-width=\"1\"/><text x=\"-8\" y=\"119.50\" dy=\"0.32em\" fill=\"#9c9c9c\" text-anchor=\"end\" font-family=\"Monaco\">5</text></g><g class=\"tick\"><line x1=\"-4\" y1=\"0\" x2=\"704.0\" y2=\"0\" stroke=\"#eee\" stroke-width=\"1\"/><text x=\"-8\" y=\"0\" dy=\"0.32em\" fill=\"#9c9c9c\" text-anchor=\"end\" font-family=\"Monaco\">6</text></g></g><g><g class=\"series dots\"><circle cx=\"140.8\" cy=\"478\" r=\"3\" fill=\"#e41a1c\"/><circle cx=\"187.7333333333333333333333334\" cy=\"358.50\" r=\"3\" fill=\"#e41a1c\"/><circle cx=\"422.4\" cy=\"0\" r=\"3\" fill=\"#e41a1c\"/><circle cx=\"704\" cy=\"239.0\" r=\"3\" fill=\"#e41a1c\"/></g></g></g></g></g></g></svg>"
      ],
      "text/plain": [
       "<IPython.core.display.SVG object>"
      ]
     },
     "execution_count": 9,
     "metadata": {},
     "output_type": "execute_result"
    }
   ],
   "source": [
    "chart = leather.Chart('Simple pairs of x-y')\n",
    "chart.add_dots(data1)\n",
    "chart.to_svg()"
   ]
  },
  {
   "cell_type": "code",
   "execution_count": 10,
   "metadata": {},
   "outputs": [
    {
     "name": "stderr",
     "output_type": "stream",
     "text": [
      "C:\\Users\\jonat\\anaconda3\\lib\\site-packages\\ipykernel\\ipkernel.py:287: DeprecationWarning: `should_run_async` will not call `transform_cell` automatically in the future. Please pass the result to `transformed_cell` argument and any exception that happen during thetransform in `preprocessing_exc_tuple` in IPython 7.17 and above.\n"
     ]
    },
    {
     "data": {
      "image/svg+xml": [
       "<svg xmlns=\"http://www.w3.org/2000/svg\" width=\"800\" height=\"600\" version=\"1.1\"><g><rect x=\"0\" y=\"0\" width=\"800\" height=\"600\" fill=\"#f9f9f9\"/><g transform=\"translate(40 40)\"><g transform=\"translate(16 0)\"><text x=\"0\" y=\"0\" fill=\"#333\" font-family=\"Monaco\" font-size=\"16\">Visualizing Multiple series</text><g transform=\"translate(0 20)\"><g transform=\"translate(0 0)\"><rect x=\"0\" y=\"-10\" width=\"10\" height=\"10\" fill=\"#e41a1c\"/><text x=\"14\" y=\"0\" fill=\"#666\" font-family=\"Monaco\" font-size=\"14\">Unnamed series</text></g><g transform=\"translate(158 0)\"><rect x=\"0\" y=\"-10\" width=\"10\" height=\"10\" fill=\"#377eb8\"/><text x=\"14\" y=\"0\" fill=\"#666\" font-family=\"Monaco\" font-size=\"14\">Unnamed series</text></g></g></g><g transform=\"translate(0 38)\"><g transform=\"translate(16 0)\"><g class=\"axis bottom\"><g class=\"tick\"><line x1=\"234.6666666666666666666666666\" y1=\"0\" x2=\"234.6666666666666666666666666\" y2=\"464.0\" stroke=\"#eee\" stroke-width=\"1\"/><text x=\"234.6666666666666666666666666\" y=\"468.0\" dy=\"1em\" fill=\"#9c9c9c\" text-anchor=\"middle\" font-family=\"Monaco\">2.5</text></g><g class=\"tick\"><line x1=\"469.3333333333333333333333334\" y1=\"0\" x2=\"469.3333333333333333333333334\" y2=\"464.0\" stroke=\"#eee\" stroke-width=\"1\"/><text x=\"469.3333333333333333333333334\" y=\"468.0\" dy=\"1em\" fill=\"#9c9c9c\" text-anchor=\"middle\" font-family=\"Monaco\">5</text></g><g class=\"tick\"><line x1=\"704\" y1=\"0\" x2=\"704\" y2=\"464.0\" stroke=\"#eee\" stroke-width=\"1\"/><text x=\"704\" y=\"468.0\" dy=\"1em\" fill=\"#9c9c9c\" text-anchor=\"middle\" font-family=\"Monaco\">7.5</text></g><g class=\"tick\"><line x1=\"0\" y1=\"0\" x2=\"0\" y2=\"464.0\" stroke=\"#a8a8a8\" stroke-width=\"1\"/><text x=\"0\" y=\"468.0\" dy=\"1em\" fill=\"#9c9c9c\" text-anchor=\"middle\" font-family=\"Monaco\">0</text></g></g><g class=\"axis left\"><g class=\"tick\"><line x1=\"-4\" y1=\"460\" x2=\"704.0\" y2=\"460\" stroke=\"#eee\" stroke-width=\"1\"/><text x=\"-8\" y=\"460\" dy=\"0.32em\" fill=\"#9c9c9c\" text-anchor=\"end\" font-family=\"Monaco\">2</text></g><g class=\"tick\"><line x1=\"-4\" y1=\"345.00\" x2=\"704.0\" y2=\"345.00\" stroke=\"#eee\" stroke-width=\"1\"/><text x=\"-8\" y=\"345.00\" dy=\"0.32em\" fill=\"#9c9c9c\" text-anchor=\"end\" font-family=\"Monaco\">3</text></g><g class=\"tick\"><line x1=\"-4\" y1=\"230.0\" x2=\"704.0\" y2=\"230.0\" stroke=\"#eee\" stroke-width=\"1\"/><text x=\"-8\" y=\"230.0\" dy=\"0.32em\" fill=\"#9c9c9c\" text-anchor=\"end\" font-family=\"Monaco\">4</text></g><g class=\"tick\"><line x1=\"-4\" y1=\"115.00\" x2=\"704.0\" y2=\"115.00\" stroke=\"#eee\" stroke-width=\"1\"/><text x=\"-8\" y=\"115.00\" dy=\"0.32em\" fill=\"#9c9c9c\" text-anchor=\"end\" font-family=\"Monaco\">5</text></g><g class=\"tick\"><line x1=\"-4\" y1=\"0\" x2=\"704.0\" y2=\"0\" stroke=\"#eee\" stroke-width=\"1\"/><text x=\"-8\" y=\"0\" dy=\"0.32em\" fill=\"#9c9c9c\" text-anchor=\"end\" font-family=\"Monaco\">6</text></g></g><g><g class=\"series dots\"><circle cx=\"140.8\" cy=\"460\" r=\"3\" fill=\"#e41a1c\"/><circle cx=\"187.7333333333333333333333334\" cy=\"345.00\" r=\"3\" fill=\"#e41a1c\"/><circle cx=\"422.4\" cy=\"0\" r=\"3\" fill=\"#e41a1c\"/><circle cx=\"704\" cy=\"230.0\" r=\"3\" fill=\"#e41a1c\"/></g><g class=\"series dots\"><circle cx=\"187.7333333333333333333333334\" cy=\"345.00\" r=\"3\" fill=\"#377eb8\"/><circle cx=\"375.4666666666666666666666666\" cy=\"115.00\" r=\"3\" fill=\"#377eb8\"/><circle cx=\"469.3333333333333333333333334\" cy=\"0\" r=\"3\" fill=\"#377eb8\"/><circle cx=\"657.0666666666666666666666666\" cy=\"115.00\" r=\"3\" fill=\"#377eb8\"/></g></g></g></g></g></g></svg>"
      ],
      "text/plain": [
       "<IPython.core.display.SVG object>"
      ]
     },
     "execution_count": 10,
     "metadata": {},
     "output_type": "execute_result"
    }
   ],
   "source": [
    "chart = leather.Chart('Customized Dots')\n",
    "chart.add_dots(data1, fill_color='#00ff00', radius=10)\n",
    "chart.to_svg()\n",
    "data2 = [(2, 3), (4, 5), (5, 6), (7, 5)]\n",
    "chart = leather.Chart('Visualizing Multiple series')\n",
    "chart.add_dots(data1)\n",
    "chart.add_dots(data2)\n",
    "chart.to_svg()"
   ]
  },
  {
   "cell_type": "code",
   "execution_count": 11,
   "metadata": {},
   "outputs": [
    {
     "name": "stderr",
     "output_type": "stream",
     "text": [
      "C:\\Users\\jonat\\anaconda3\\lib\\site-packages\\ipykernel\\ipkernel.py:287: DeprecationWarning: `should_run_async` will not call `transform_cell` automatically in the future. Please pass the result to `transformed_cell` argument and any exception that happen during thetransform in `preprocessing_exc_tuple` in IPython 7.17 and above.\n"
     ]
    },
    {
     "data": {
      "image/svg+xml": [
       "<svg xmlns=\"http://www.w3.org/2000/svg\" width=\"800\" height=\"600\" version=\"1.1\"><g><rect x=\"0\" y=\"0\" width=\"800\" height=\"600\" fill=\"#f9f9f9\"/><g transform=\"translate(40 40)\"><g transform=\"translate(16 0)\"><text x=\"0\" y=\"0\" fill=\"#333\" font-family=\"Monaco\" font-size=\"16\">Visualizing Lines</text></g><g transform=\"translate(0 20)\"><g transform=\"translate(16 0)\"><g class=\"axis bottom\"><g class=\"tick\"><line x1=\"234.6666666666666666666666666\" y1=\"0\" x2=\"234.6666666666666666666666666\" y2=\"482.0\" stroke=\"#eee\" stroke-width=\"1\"/><text x=\"234.6666666666666666666666666\" y=\"486.0\" dy=\"1em\" fill=\"#9c9c9c\" text-anchor=\"middle\" font-family=\"Monaco\">2.5</text></g><g class=\"tick\"><line x1=\"469.3333333333333333333333334\" y1=\"0\" x2=\"469.3333333333333333333333334\" y2=\"482.0\" stroke=\"#eee\" stroke-width=\"1\"/><text x=\"469.3333333333333333333333334\" y=\"486.0\" dy=\"1em\" fill=\"#9c9c9c\" text-anchor=\"middle\" font-family=\"Monaco\">5</text></g><g class=\"tick\"><line x1=\"704\" y1=\"0\" x2=\"704\" y2=\"482.0\" stroke=\"#eee\" stroke-width=\"1\"/><text x=\"704\" y=\"486.0\" dy=\"1em\" fill=\"#9c9c9c\" text-anchor=\"middle\" font-family=\"Monaco\">7.5</text></g><g class=\"tick\"><line x1=\"0\" y1=\"0\" x2=\"0\" y2=\"482.0\" stroke=\"#a8a8a8\" stroke-width=\"1\"/><text x=\"0\" y=\"486.0\" dy=\"1em\" fill=\"#9c9c9c\" text-anchor=\"middle\" font-family=\"Monaco\">0</text></g></g><g class=\"axis left\"><g class=\"tick\"><line x1=\"-4\" y1=\"478\" x2=\"704.0\" y2=\"478\" stroke=\"#eee\" stroke-width=\"1\"/><text x=\"-8\" y=\"478\" dy=\"0.32em\" fill=\"#9c9c9c\" text-anchor=\"end\" font-family=\"Monaco\">2</text></g><g class=\"tick\"><line x1=\"-4\" y1=\"358.50\" x2=\"704.0\" y2=\"358.50\" stroke=\"#eee\" stroke-width=\"1\"/><text x=\"-8\" y=\"358.50\" dy=\"0.32em\" fill=\"#9c9c9c\" text-anchor=\"end\" font-family=\"Monaco\">3</text></g><g class=\"tick\"><line x1=\"-4\" y1=\"239.0\" x2=\"704.0\" y2=\"239.0\" stroke=\"#eee\" stroke-width=\"1\"/><text x=\"-8\" y=\"239.0\" dy=\"0.32em\" fill=\"#9c9c9c\" text-anchor=\"end\" font-family=\"Monaco\">4</text></g><g class=\"tick\"><line x1=\"-4\" y1=\"119.50\" x2=\"704.0\" y2=\"119.50\" stroke=\"#eee\" stroke-width=\"1\"/><text x=\"-8\" y=\"119.50\" dy=\"0.32em\" fill=\"#9c9c9c\" text-anchor=\"end\" font-family=\"Monaco\">5</text></g><g class=\"tick\"><line x1=\"-4\" y1=\"0\" x2=\"704.0\" y2=\"0\" stroke=\"#eee\" stroke-width=\"1\"/><text x=\"-8\" y=\"0\" dy=\"0.32em\" fill=\"#9c9c9c\" text-anchor=\"end\" font-family=\"Monaco\">6</text></g></g><g><g class=\"series lines\"><path stroke=\"#e41a1c\" fill=\"none\" stroke-width=\"2\" d=\"M 140.8 478 L 187.7333333333333333333333334 358.50 L 422.4 0 L 704 239.0\"/></g></g></g></g></g></g></svg>"
      ],
      "text/plain": [
       "<IPython.core.display.SVG object>"
      ]
     },
     "execution_count": 11,
     "metadata": {},
     "output_type": "execute_result"
    }
   ],
   "source": [
    "chart = leather.Chart('Visualizing Lines')\n",
    "chart.add_line(data1)\n",
    "chart.to_svg()"
   ]
  },
  {
   "cell_type": "code",
   "execution_count": 12,
   "metadata": {},
   "outputs": [
    {
     "name": "stderr",
     "output_type": "stream",
     "text": [
      "C:\\Users\\jonat\\anaconda3\\lib\\site-packages\\ipykernel\\ipkernel.py:287: DeprecationWarning: `should_run_async` will not call `transform_cell` automatically in the future. Please pass the result to `transformed_cell` argument and any exception that happen during thetransform in `preprocessing_exc_tuple` in IPython 7.17 and above.\n"
     ]
    },
    {
     "data": {
      "image/svg+xml": [
       "<svg xmlns=\"http://www.w3.org/2000/svg\" width=\"800\" height=\"600\" version=\"1.1\"><g><rect x=\"0\" y=\"0\" width=\"800\" height=\"600\" fill=\"#f9f9f9\"/><g transform=\"translate(40 40)\"><g transform=\"translate(16 0)\"><text x=\"0\" y=\"0\" fill=\"#333\" font-family=\"Monaco\" font-size=\"16\">Customized Line</text></g><g transform=\"translate(0 20)\"><g transform=\"translate(16 0)\"><g class=\"axis bottom\"><g class=\"tick\"><line x1=\"0\" y1=\"0\" x2=\"0\" y2=\"482.0\" stroke=\"#eee\" stroke-width=\"1\"/><text x=\"0\" y=\"486.0\" dy=\"1em\" fill=\"#9c9c9c\" text-anchor=\"middle\" font-family=\"Monaco\">2</text></g><g class=\"tick\"><line x1=\"140.8\" y1=\"0\" x2=\"140.8\" y2=\"482.0\" stroke=\"#eee\" stroke-width=\"1\"/><text x=\"140.8\" y=\"486.0\" dy=\"1em\" fill=\"#9c9c9c\" text-anchor=\"middle\" font-family=\"Monaco\">3</text></g><g class=\"tick\"><line x1=\"281.6\" y1=\"0\" x2=\"281.6\" y2=\"482.0\" stroke=\"#eee\" stroke-width=\"1\"/><text x=\"281.6\" y=\"486.0\" dy=\"1em\" fill=\"#9c9c9c\" text-anchor=\"middle\" font-family=\"Monaco\">4</text></g><g class=\"tick\"><line x1=\"422.4\" y1=\"0\" x2=\"422.4\" y2=\"482.0\" stroke=\"#eee\" stroke-width=\"1\"/><text x=\"422.4\" y=\"486.0\" dy=\"1em\" fill=\"#9c9c9c\" text-anchor=\"middle\" font-family=\"Monaco\">5</text></g><g class=\"tick\"><line x1=\"563.2\" y1=\"0\" x2=\"563.2\" y2=\"482.0\" stroke=\"#eee\" stroke-width=\"1\"/><text x=\"563.2\" y=\"486.0\" dy=\"1em\" fill=\"#9c9c9c\" text-anchor=\"middle\" font-family=\"Monaco\">6</text></g><g class=\"tick\"><line x1=\"704\" y1=\"0\" x2=\"704\" y2=\"482.0\" stroke=\"#eee\" stroke-width=\"1\"/><text x=\"704\" y=\"486.0\" dy=\"1em\" fill=\"#9c9c9c\" text-anchor=\"middle\" font-family=\"Monaco\">7</text></g></g><g class=\"axis left\"><g class=\"tick\"><line x1=\"-4\" y1=\"478\" x2=\"704.0\" y2=\"478\" stroke=\"#eee\" stroke-width=\"1\"/><text x=\"-8\" y=\"478\" dy=\"0.32em\" fill=\"#9c9c9c\" text-anchor=\"end\" font-family=\"Monaco\">3</text></g><g class=\"tick\"><line x1=\"-4\" y1=\"318.6666666666666666666666667\" x2=\"704.0\" y2=\"318.6666666666666666666666667\" stroke=\"#eee\" stroke-width=\"1\"/><text x=\"-8\" y=\"318.6666666666666666666666667\" dy=\"0.32em\" fill=\"#9c9c9c\" text-anchor=\"end\" font-family=\"Monaco\">4</text></g><g class=\"tick\"><line x1=\"-4\" y1=\"159.3333333333333333333333333\" x2=\"704.0\" y2=\"159.3333333333333333333333333\" stroke=\"#eee\" stroke-width=\"1\"/><text x=\"-8\" y=\"159.3333333333333333333333333\" dy=\"0.32em\" fill=\"#9c9c9c\" text-anchor=\"end\" font-family=\"Monaco\">5</text></g><g class=\"tick\"><line x1=\"-4\" y1=\"0\" x2=\"704.0\" y2=\"0\" stroke=\"#eee\" stroke-width=\"1\"/><text x=\"-8\" y=\"0\" dy=\"0.32em\" fill=\"#9c9c9c\" text-anchor=\"end\" font-family=\"Monaco\">6</text></g></g><g><g class=\"series lines\"><path stroke=\"#0000ff\" fill=\"none\" stroke-width=\"3\" d=\"M 0 478 L 281.6 159.3333333333333333333333333 L 422.4 0 L 704 159.3333333333333333333333333\"/></g></g></g></g></g></g></svg>"
      ],
      "text/plain": [
       "<IPython.core.display.SVG object>"
      ]
     },
     "execution_count": 12,
     "metadata": {},
     "output_type": "execute_result"
    }
   ],
   "source": [
    "chart = leather.Chart('Customized Line')\n",
    "chart.add_line(data2, stroke_color='#0000ff', width=3)\n",
    "chart.to_svg()"
   ]
  },
  {
   "cell_type": "code",
   "execution_count": 13,
   "metadata": {},
   "outputs": [
    {
     "name": "stderr",
     "output_type": "stream",
     "text": [
      "C:\\Users\\jonat\\anaconda3\\lib\\site-packages\\ipykernel\\ipkernel.py:287: DeprecationWarning: `should_run_async` will not call `transform_cell` automatically in the future. Please pass the result to `transformed_cell` argument and any exception that happen during thetransform in `preprocessing_exc_tuple` in IPython 7.17 and above.\n"
     ]
    },
    {
     "data": {
      "image/svg+xml": [
       "<svg xmlns=\"http://www.w3.org/2000/svg\" width=\"800\" height=\"600\" version=\"1.1\"><g><rect x=\"0\" y=\"0\" width=\"800\" height=\"600\" fill=\"#f9f9f9\"/><g transform=\"translate(40 40)\"><g transform=\"translate(16 0)\"><text x=\"0\" y=\"0\" fill=\"#333\" font-family=\"Monaco\" font-size=\"16\">Visulaizing Multiple Lines</text><g transform=\"translate(0 20)\"><g transform=\"translate(0 0)\"><rect x=\"0\" y=\"-10\" width=\"10\" height=\"10\" fill=\"#e41a1c\"/><text x=\"14\" y=\"0\" fill=\"#666\" font-family=\"Monaco\" font-size=\"14\">Unnamed series</text></g><g transform=\"translate(158 0)\"><rect x=\"0\" y=\"-10\" width=\"10\" height=\"10\" fill=\"#377eb8\"/><text x=\"14\" y=\"0\" fill=\"#666\" font-family=\"Monaco\" font-size=\"14\">Unnamed series</text></g></g></g><g transform=\"translate(0 38)\"><g transform=\"translate(16 0)\"><g class=\"axis bottom\"><g class=\"tick\"><line x1=\"234.6666666666666666666666666\" y1=\"0\" x2=\"234.6666666666666666666666666\" y2=\"464.0\" stroke=\"#eee\" stroke-width=\"1\"/><text x=\"234.6666666666666666666666666\" y=\"468.0\" dy=\"1em\" fill=\"#9c9c9c\" text-anchor=\"middle\" font-family=\"Monaco\">2.5</text></g><g class=\"tick\"><line x1=\"469.3333333333333333333333334\" y1=\"0\" x2=\"469.3333333333333333333333334\" y2=\"464.0\" stroke=\"#eee\" stroke-width=\"1\"/><text x=\"469.3333333333333333333333334\" y=\"468.0\" dy=\"1em\" fill=\"#9c9c9c\" text-anchor=\"middle\" font-family=\"Monaco\">5</text></g><g class=\"tick\"><line x1=\"704\" y1=\"0\" x2=\"704\" y2=\"464.0\" stroke=\"#eee\" stroke-width=\"1\"/><text x=\"704\" y=\"468.0\" dy=\"1em\" fill=\"#9c9c9c\" text-anchor=\"middle\" font-family=\"Monaco\">7.5</text></g><g class=\"tick\"><line x1=\"0\" y1=\"0\" x2=\"0\" y2=\"464.0\" stroke=\"#a8a8a8\" stroke-width=\"1\"/><text x=\"0\" y=\"468.0\" dy=\"1em\" fill=\"#9c9c9c\" text-anchor=\"middle\" font-family=\"Monaco\">0</text></g></g><g class=\"axis left\"><g class=\"tick\"><line x1=\"-4\" y1=\"460\" x2=\"704.0\" y2=\"460\" stroke=\"#eee\" stroke-width=\"1\"/><text x=\"-8\" y=\"460\" dy=\"0.32em\" fill=\"#9c9c9c\" text-anchor=\"end\" font-family=\"Monaco\">2</text></g><g class=\"tick\"><line x1=\"-4\" y1=\"345.00\" x2=\"704.0\" y2=\"345.00\" stroke=\"#eee\" stroke-width=\"1\"/><text x=\"-8\" y=\"345.00\" dy=\"0.32em\" fill=\"#9c9c9c\" text-anchor=\"end\" font-family=\"Monaco\">3</text></g><g class=\"tick\"><line x1=\"-4\" y1=\"230.0\" x2=\"704.0\" y2=\"230.0\" stroke=\"#eee\" stroke-width=\"1\"/><text x=\"-8\" y=\"230.0\" dy=\"0.32em\" fill=\"#9c9c9c\" text-anchor=\"end\" font-family=\"Monaco\">4</text></g><g class=\"tick\"><line x1=\"-4\" y1=\"115.00\" x2=\"704.0\" y2=\"115.00\" stroke=\"#eee\" stroke-width=\"1\"/><text x=\"-8\" y=\"115.00\" dy=\"0.32em\" fill=\"#9c9c9c\" text-anchor=\"end\" font-family=\"Monaco\">5</text></g><g class=\"tick\"><line x1=\"-4\" y1=\"0\" x2=\"704.0\" y2=\"0\" stroke=\"#eee\" stroke-width=\"1\"/><text x=\"-8\" y=\"0\" dy=\"0.32em\" fill=\"#9c9c9c\" text-anchor=\"end\" font-family=\"Monaco\">6</text></g></g><g><g class=\"series lines\"><path stroke=\"#e41a1c\" fill=\"none\" stroke-width=\"2\" d=\"M 140.8 460 L 187.7333333333333333333333334 345.00 L 422.4 0 L 704 230.0\"/></g><g class=\"series lines\"><path stroke=\"#377eb8\" fill=\"none\" stroke-width=\"2\" d=\"M 187.7333333333333333333333334 345.00 L 375.4666666666666666666666666 115.00 L 469.3333333333333333333333334 0 L 657.0666666666666666666666666 115.00\"/></g></g></g></g></g></g></svg>"
      ],
      "text/plain": [
       "<IPython.core.display.SVG object>"
      ]
     },
     "execution_count": 13,
     "metadata": {},
     "output_type": "execute_result"
    }
   ],
   "source": [
    "# multiline\n",
    "chart = leather.Chart('Visulaizing Multiple Lines')\n",
    "chart.add_line(data1)\n",
    "chart.add_line(data2)\n",
    "chart.to_svg()"
   ]
  },
  {
   "cell_type": "code",
   "execution_count": 14,
   "metadata": {},
   "outputs": [
    {
     "name": "stderr",
     "output_type": "stream",
     "text": [
      "C:\\Users\\jonat\\anaconda3\\lib\\site-packages\\ipykernel\\ipkernel.py:287: DeprecationWarning: `should_run_async` will not call `transform_cell` automatically in the future. Please pass the result to `transformed_cell` argument and any exception that happen during thetransform in `preprocessing_exc_tuple` in IPython 7.17 and above.\n"
     ]
    },
    {
     "data": {
      "image/svg+xml": [
       "<svg xmlns=\"http://www.w3.org/2000/svg\" width=\"800\" height=\"600\" version=\"1.1\"><g><rect x=\"0\" y=\"0\" width=\"800\" height=\"600\" fill=\"#f9f9f9\"/><g transform=\"translate(40 40)\"><g transform=\"translate(16 0)\"><text x=\"0\" y=\"0\" fill=\"#333\" font-family=\"Monaco\" font-size=\"16\">Visualizing Multiple Types</text><g transform=\"translate(0 20)\"><g transform=\"translate(0 0)\"><rect x=\"0\" y=\"-10\" width=\"10\" height=\"10\" fill=\"#e41a1c\"/><text x=\"14\" y=\"0\" fill=\"#666\" font-family=\"Monaco\" font-size=\"14\">Unnamed series</text></g><g transform=\"translate(158 0)\"><rect x=\"0\" y=\"-10\" width=\"10\" height=\"10\" fill=\"#377eb8\"/><text x=\"14\" y=\"0\" fill=\"#666\" font-family=\"Monaco\" font-size=\"14\">Unnamed series</text></g></g></g><g transform=\"translate(0 38)\"><g transform=\"translate(16 0)\"><g class=\"axis bottom\"><g class=\"tick\"><line x1=\"234.6666666666666666666666666\" y1=\"0\" x2=\"234.6666666666666666666666666\" y2=\"464.0\" stroke=\"#eee\" stroke-width=\"1\"/><text x=\"234.6666666666666666666666666\" y=\"468.0\" dy=\"1em\" fill=\"#9c9c9c\" text-anchor=\"middle\" font-family=\"Monaco\">2.5</text></g><g class=\"tick\"><line x1=\"469.3333333333333333333333334\" y1=\"0\" x2=\"469.3333333333333333333333334\" y2=\"464.0\" stroke=\"#eee\" stroke-width=\"1\"/><text x=\"469.3333333333333333333333334\" y=\"468.0\" dy=\"1em\" fill=\"#9c9c9c\" text-anchor=\"middle\" font-family=\"Monaco\">5</text></g><g class=\"tick\"><line x1=\"704\" y1=\"0\" x2=\"704\" y2=\"464.0\" stroke=\"#eee\" stroke-width=\"1\"/><text x=\"704\" y=\"468.0\" dy=\"1em\" fill=\"#9c9c9c\" text-anchor=\"middle\" font-family=\"Monaco\">7.5</text></g><g class=\"tick\"><line x1=\"0\" y1=\"0\" x2=\"0\" y2=\"464.0\" stroke=\"#a8a8a8\" stroke-width=\"1\"/><text x=\"0\" y=\"468.0\" dy=\"1em\" fill=\"#9c9c9c\" text-anchor=\"middle\" font-family=\"Monaco\">0</text></g></g><g class=\"axis left\"><g class=\"tick\"><line x1=\"-4\" y1=\"460\" x2=\"704.0\" y2=\"460\" stroke=\"#eee\" stroke-width=\"1\"/><text x=\"-8\" y=\"460\" dy=\"0.32em\" fill=\"#9c9c9c\" text-anchor=\"end\" font-family=\"Monaco\">2</text></g><g class=\"tick\"><line x1=\"-4\" y1=\"345.00\" x2=\"704.0\" y2=\"345.00\" stroke=\"#eee\" stroke-width=\"1\"/><text x=\"-8\" y=\"345.00\" dy=\"0.32em\" fill=\"#9c9c9c\" text-anchor=\"end\" font-family=\"Monaco\">3</text></g><g class=\"tick\"><line x1=\"-4\" y1=\"230.0\" x2=\"704.0\" y2=\"230.0\" stroke=\"#eee\" stroke-width=\"1\"/><text x=\"-8\" y=\"230.0\" dy=\"0.32em\" fill=\"#9c9c9c\" text-anchor=\"end\" font-family=\"Monaco\">4</text></g><g class=\"tick\"><line x1=\"-4\" y1=\"115.00\" x2=\"704.0\" y2=\"115.00\" stroke=\"#eee\" stroke-width=\"1\"/><text x=\"-8\" y=\"115.00\" dy=\"0.32em\" fill=\"#9c9c9c\" text-anchor=\"end\" font-family=\"Monaco\">5</text></g><g class=\"tick\"><line x1=\"-4\" y1=\"0\" x2=\"704.0\" y2=\"0\" stroke=\"#eee\" stroke-width=\"1\"/><text x=\"-8\" y=\"0\" dy=\"0.32em\" fill=\"#9c9c9c\" text-anchor=\"end\" font-family=\"Monaco\">6</text></g></g><g><g class=\"series lines\"><path stroke=\"#e41a1c\" fill=\"none\" stroke-width=\"2\" d=\"M 140.8 460 L 187.7333333333333333333333334 345.00 L 422.4 0 L 704 230.0\"/></g><g class=\"series dots\"><circle cx=\"187.7333333333333333333333334\" cy=\"345.00\" r=\"3\" fill=\"#377eb8\"/><circle cx=\"375.4666666666666666666666666\" cy=\"115.00\" r=\"3\" fill=\"#377eb8\"/><circle cx=\"469.3333333333333333333333334\" cy=\"0\" r=\"3\" fill=\"#377eb8\"/><circle cx=\"657.0666666666666666666666666\" cy=\"115.00\" r=\"3\" fill=\"#377eb8\"/></g></g></g></g></g></g></svg>"
      ],
      "text/plain": [
       "<IPython.core.display.SVG object>"
      ]
     },
     "execution_count": 14,
     "metadata": {},
     "output_type": "execute_result"
    }
   ],
   "source": [
    "chart = leather.Chart('Visualizing Multiple Types')\n",
    "chart.add_line(data1)\n",
    "chart.add_dots(data2)\n",
    "chart.to_svg()"
   ]
  },
  {
   "cell_type": "code",
   "execution_count": 15,
   "metadata": {},
   "outputs": [
    {
     "name": "stderr",
     "output_type": "stream",
     "text": [
      "C:\\Users\\jonat\\anaconda3\\lib\\site-packages\\ipykernel\\ipkernel.py:287: DeprecationWarning: `should_run_async` will not call `transform_cell` automatically in the future. Please pass the result to `transformed_cell` argument and any exception that happen during thetransform in `preprocessing_exc_tuple` in IPython 7.17 and above.\n"
     ]
    },
    {
     "data": {
      "image/svg+xml": [
       "<svg xmlns=\"http://www.w3.org/2000/svg\" width=\"800\" height=\"600\" version=\"1.1\"><g><rect x=\"0\" y=\"0\" width=\"800\" height=\"600\" fill=\"#f9f9f9\"/><g transform=\"translate(40 40)\"><g transform=\"translate(16 0)\"><text x=\"0\" y=\"0\" fill=\"#333\" font-family=\"Monaco\" font-size=\"16\">Visualizing Bars</text></g><g transform=\"translate(0 20)\"><g transform=\"translate(16 0)\"><g class=\"axis bottom\"><g class=\"tick\"><line x1=\"176.00\" y1=\"0\" x2=\"176.00\" y2=\"482.0\" stroke=\"#eee\" stroke-width=\"1\"/><text x=\"176.00\" y=\"486.0\" dy=\"1em\" fill=\"#9c9c9c\" text-anchor=\"middle\" font-family=\"Monaco\">1</text></g><g class=\"tick\"><line x1=\"352.0\" y1=\"0\" x2=\"352.0\" y2=\"482.0\" stroke=\"#eee\" stroke-width=\"1\"/><text x=\"352.0\" y=\"486.0\" dy=\"1em\" fill=\"#9c9c9c\" text-anchor=\"middle\" font-family=\"Monaco\">2</text></g><g class=\"tick\"><line x1=\"528.00\" y1=\"0\" x2=\"528.00\" y2=\"482.0\" stroke=\"#eee\" stroke-width=\"1\"/><text x=\"528.00\" y=\"486.0\" dy=\"1em\" fill=\"#9c9c9c\" text-anchor=\"middle\" font-family=\"Monaco\">3</text></g><g class=\"tick\"><line x1=\"704\" y1=\"0\" x2=\"704\" y2=\"482.0\" stroke=\"#eee\" stroke-width=\"1\"/><text x=\"704\" y=\"486.0\" dy=\"1em\" fill=\"#9c9c9c\" text-anchor=\"middle\" font-family=\"Monaco\">4</text></g><g class=\"tick\"><line x1=\"0\" y1=\"0\" x2=\"0\" y2=\"482.0\" stroke=\"#a8a8a8\" stroke-width=\"1\"/><text x=\"0\" y=\"486.0\" dy=\"1em\" fill=\"#9c9c9c\" text-anchor=\"middle\" font-family=\"Monaco\">0</text></g></g><g class=\"axis left\"><g class=\"tick\"><line x1=\"-4\" y1=\"418.25\" x2=\"704.0\" y2=\"418.25\" stroke=\"#eee\" stroke-width=\"1\"/><text x=\"-8\" y=\"418.25\" dy=\"0.32em\" fill=\"#9c9c9c\" text-anchor=\"end\" font-family=\"Monaco\">D</text></g><g class=\"tick\"><line x1=\"-4\" y1=\"298.75\" x2=\"704.0\" y2=\"298.75\" stroke=\"#eee\" stroke-width=\"1\"/><text x=\"-8\" y=\"298.75\" dy=\"0.32em\" fill=\"#9c9c9c\" text-anchor=\"end\" font-family=\"Monaco\">C</text></g><g class=\"tick\"><line x1=\"-4\" y1=\"179.25\" x2=\"704.0\" y2=\"179.25\" stroke=\"#eee\" stroke-width=\"1\"/><text x=\"-8\" y=\"179.25\" dy=\"0.32em\" fill=\"#9c9c9c\" text-anchor=\"end\" font-family=\"Monaco\">B</text></g><g class=\"tick\"><line x1=\"-4\" y1=\"59.75\" x2=\"704.0\" y2=\"59.75\" stroke=\"#eee\" stroke-width=\"1\"/><text x=\"-8\" y=\"59.75\" dy=\"0.32em\" fill=\"#9c9c9c\" text-anchor=\"end\" font-family=\"Monaco\">A</text></g></g><g><g class=\"series bars\"><rect x=\"0\" y=\"364.475\" width=\"704\" height=\"107.550\" fill=\"#e41a1c\"/><rect x=\"0\" y=\"244.975\" width=\"528.00\" height=\"107.550\" fill=\"#e41a1c\"/><rect x=\"0\" y=\"125.475\" width=\"352.0\" height=\"107.550\" fill=\"#e41a1c\"/><rect x=\"0\" y=\"5.975\" width=\"176.00\" height=\"107.550\" fill=\"#e41a1c\"/></g></g></g></g></g></g></svg>"
      ],
      "text/plain": [
       "<IPython.core.display.SVG object>"
      ]
     },
     "execution_count": 15,
     "metadata": {},
     "output_type": "execute_result"
    }
   ],
   "source": [
    "data = [[1, 'A'], [2, 'B'], [3, 'C'], [4, 'D']]\n",
    "chart = leather.Chart('Visualizing Bars')\n",
    "chart.add_bars(data)\n",
    "chart.to_svg()"
   ]
  },
  {
   "cell_type": "code",
   "execution_count": 16,
   "metadata": {},
   "outputs": [
    {
     "name": "stderr",
     "output_type": "stream",
     "text": [
      "C:\\Users\\jonat\\anaconda3\\lib\\site-packages\\ipykernel\\ipkernel.py:287: DeprecationWarning: `should_run_async` will not call `transform_cell` automatically in the future. Please pass the result to `transformed_cell` argument and any exception that happen during thetransform in `preprocessing_exc_tuple` in IPython 7.17 and above.\n"
     ]
    },
    {
     "data": {
      "image/svg+xml": [
       "<svg xmlns=\"http://www.w3.org/2000/svg\" width=\"800\" height=\"600\" version=\"1.1\"><g><rect x=\"0\" y=\"0\" width=\"800\" height=\"600\" fill=\"#f9f9f9\"/><g transform=\"translate(40 40)\"><g transform=\"translate(16 0)\"><text x=\"0\" y=\"0\" fill=\"#333\" font-family=\"Monaco\" font-size=\"16\">Customizing Bars</text></g><g transform=\"translate(0 20)\"><g transform=\"translate(16 0)\"><g class=\"axis bottom\"><g class=\"tick\"><line x1=\"176.00\" y1=\"0\" x2=\"176.00\" y2=\"482.0\" stroke=\"#eee\" stroke-width=\"1\"/><text x=\"176.00\" y=\"486.0\" dy=\"1em\" fill=\"#9c9c9c\" text-anchor=\"middle\" font-family=\"Monaco\">1</text></g><g class=\"tick\"><line x1=\"352.0\" y1=\"0\" x2=\"352.0\" y2=\"482.0\" stroke=\"#eee\" stroke-width=\"1\"/><text x=\"352.0\" y=\"486.0\" dy=\"1em\" fill=\"#9c9c9c\" text-anchor=\"middle\" font-family=\"Monaco\">2</text></g><g class=\"tick\"><line x1=\"528.00\" y1=\"0\" x2=\"528.00\" y2=\"482.0\" stroke=\"#eee\" stroke-width=\"1\"/><text x=\"528.00\" y=\"486.0\" dy=\"1em\" fill=\"#9c9c9c\" text-anchor=\"middle\" font-family=\"Monaco\">3</text></g><g class=\"tick\"><line x1=\"704\" y1=\"0\" x2=\"704\" y2=\"482.0\" stroke=\"#eee\" stroke-width=\"1\"/><text x=\"704\" y=\"486.0\" dy=\"1em\" fill=\"#9c9c9c\" text-anchor=\"middle\" font-family=\"Monaco\">4</text></g><g class=\"tick\"><line x1=\"0\" y1=\"0\" x2=\"0\" y2=\"482.0\" stroke=\"#a8a8a8\" stroke-width=\"1\"/><text x=\"0\" y=\"486.0\" dy=\"1em\" fill=\"#9c9c9c\" text-anchor=\"middle\" font-family=\"Monaco\">0</text></g></g><g class=\"axis left\"><g class=\"tick\"><line x1=\"-4\" y1=\"418.25\" x2=\"704.0\" y2=\"418.25\" stroke=\"#eee\" stroke-width=\"1\"/><text x=\"-8\" y=\"418.25\" dy=\"0.32em\" fill=\"#9c9c9c\" text-anchor=\"end\" font-family=\"Monaco\">D</text></g><g class=\"tick\"><line x1=\"-4\" y1=\"298.75\" x2=\"704.0\" y2=\"298.75\" stroke=\"#eee\" stroke-width=\"1\"/><text x=\"-8\" y=\"298.75\" dy=\"0.32em\" fill=\"#9c9c9c\" text-anchor=\"end\" font-family=\"Monaco\">C</text></g><g class=\"tick\"><line x1=\"-4\" y1=\"179.25\" x2=\"704.0\" y2=\"179.25\" stroke=\"#eee\" stroke-width=\"1\"/><text x=\"-8\" y=\"179.25\" dy=\"0.32em\" fill=\"#9c9c9c\" text-anchor=\"end\" font-family=\"Monaco\">B</text></g><g class=\"tick\"><line x1=\"-4\" y1=\"59.75\" x2=\"704.0\" y2=\"59.75\" stroke=\"#eee\" stroke-width=\"1\"/><text x=\"-8\" y=\"59.75\" dy=\"0.32em\" fill=\"#9c9c9c\" text-anchor=\"end\" font-family=\"Monaco\">A</text></g></g><g><g class=\"series bars\"><rect x=\"0\" y=\"364.475\" width=\"704\" height=\"107.550\" fill=\"#777777\"/><rect x=\"0\" y=\"244.975\" width=\"528.00\" height=\"107.550\" fill=\"#777777\"/><rect x=\"0\" y=\"125.475\" width=\"352.0\" height=\"107.550\" fill=\"#777777\"/><rect x=\"0\" y=\"5.975\" width=\"176.00\" height=\"107.550\" fill=\"#777777\"/></g></g></g></g></g></g></svg>"
      ],
      "text/plain": [
       "<IPython.core.display.SVG object>"
      ]
     },
     "execution_count": 16,
     "metadata": {},
     "output_type": "execute_result"
    }
   ],
   "source": [
    "chart = leather.Chart('Customizing Bars')\n",
    "chart.add_bars(data, fill_color='#777777')\n",
    "chart.to_svg()"
   ]
  },
  {
   "cell_type": "code",
   "execution_count": 17,
   "metadata": {},
   "outputs": [
    {
     "name": "stderr",
     "output_type": "stream",
     "text": [
      "C:\\Users\\jonat\\anaconda3\\lib\\site-packages\\ipykernel\\ipkernel.py:287: DeprecationWarning: `should_run_async` will not call `transform_cell` automatically in the future. Please pass the result to `transformed_cell` argument and any exception that happen during thetransform in `preprocessing_exc_tuple` in IPython 7.17 and above.\n"
     ]
    },
    {
     "data": {
      "image/svg+xml": [
       "<svg xmlns=\"http://www.w3.org/2000/svg\" width=\"800\" height=\"600\" version=\"1.1\"><g><rect x=\"0\" y=\"0\" width=\"800\" height=\"600\" fill=\"#f9f9f9\"/><g transform=\"translate(40 40)\"><g transform=\"translate(16 0)\"><text x=\"0\" y=\"0\" fill=\"#333\" font-family=\"Monaco\" font-size=\"16\">Visualizing Columns</text></g><g transform=\"translate(0 20)\"><g transform=\"translate(16 0)\"><g class=\"axis bottom\"><g class=\"tick\"><line x1=\"88\" y1=\"0\" x2=\"88\" y2=\"482.0\" stroke=\"#eee\" stroke-width=\"1\"/><text x=\"88\" y=\"486.0\" dy=\"1em\" fill=\"#9c9c9c\" text-anchor=\"middle\" font-family=\"Monaco\">A</text></g><g class=\"tick\"><line x1=\"264\" y1=\"0\" x2=\"264\" y2=\"482.0\" stroke=\"#eee\" stroke-width=\"1\"/><text x=\"264\" y=\"486.0\" dy=\"1em\" fill=\"#9c9c9c\" text-anchor=\"middle\" font-family=\"Monaco\">B</text></g><g class=\"tick\"><line x1=\"440\" y1=\"0\" x2=\"440\" y2=\"482.0\" stroke=\"#eee\" stroke-width=\"1\"/><text x=\"440\" y=\"486.0\" dy=\"1em\" fill=\"#9c9c9c\" text-anchor=\"middle\" font-family=\"Monaco\">C</text></g><g class=\"tick\"><line x1=\"616\" y1=\"0\" x2=\"616\" y2=\"482.0\" stroke=\"#eee\" stroke-width=\"1\"/><text x=\"616\" y=\"486.0\" dy=\"1em\" fill=\"#9c9c9c\" text-anchor=\"middle\" font-family=\"Monaco\">D</text></g></g><g class=\"axis left\"><g class=\"tick\"><line x1=\"-4\" y1=\"358.50\" x2=\"704.0\" y2=\"358.50\" stroke=\"#eee\" stroke-width=\"1\"/><text x=\"-8\" y=\"358.50\" dy=\"0.32em\" fill=\"#9c9c9c\" text-anchor=\"end\" font-family=\"Monaco\">1</text></g><g class=\"tick\"><line x1=\"-4\" y1=\"239.0\" x2=\"704.0\" y2=\"239.0\" stroke=\"#eee\" stroke-width=\"1\"/><text x=\"-8\" y=\"239.0\" dy=\"0.32em\" fill=\"#9c9c9c\" text-anchor=\"end\" font-family=\"Monaco\">2</text></g><g class=\"tick\"><line x1=\"-4\" y1=\"119.50\" x2=\"704.0\" y2=\"119.50\" stroke=\"#eee\" stroke-width=\"1\"/><text x=\"-8\" y=\"119.50\" dy=\"0.32em\" fill=\"#9c9c9c\" text-anchor=\"end\" font-family=\"Monaco\">3</text></g><g class=\"tick\"><line x1=\"-4\" y1=\"0\" x2=\"704.0\" y2=\"0\" stroke=\"#eee\" stroke-width=\"1\"/><text x=\"-8\" y=\"0\" dy=\"0.32em\" fill=\"#9c9c9c\" text-anchor=\"end\" font-family=\"Monaco\">4</text></g><g class=\"tick\"><line x1=\"-4\" y1=\"478\" x2=\"704.0\" y2=\"478\" stroke=\"#a8a8a8\" stroke-width=\"1\"/><text x=\"-8\" y=\"478\" dy=\"0.32em\" fill=\"#9c9c9c\" text-anchor=\"end\" font-family=\"Monaco\">0</text></g></g><g><g class=\"series columns\"><rect x=\"8.8\" y=\"358.50\" width=\"158.4\" height=\"119.50\" fill=\"#e41a1c\"/><rect x=\"184.8\" y=\"239.0\" width=\"158.4\" height=\"239.0\" fill=\"#e41a1c\"/><rect x=\"360.8\" y=\"119.50\" width=\"158.4\" height=\"358.50\" fill=\"#e41a1c\"/><rect x=\"536.8\" y=\"0\" width=\"158.4\" height=\"478\" fill=\"#e41a1c\"/></g></g></g></g></g></g></svg>"
      ],
      "text/plain": [
       "<IPython.core.display.SVG object>"
      ]
     },
     "execution_count": 17,
     "metadata": {},
     "output_type": "execute_result"
    }
   ],
   "source": [
    "data = [('A', 1), ('B', 2), ('C', 3), ('D', 4)]\n",
    "chart = leather.Chart('Visualizing Columns')\n",
    "chart.add_columns(data)\n",
    "chart.to_svg()"
   ]
  },
  {
   "cell_type": "code",
   "execution_count": 21,
   "metadata": {},
   "outputs": [
    {
     "name": "stderr",
     "output_type": "stream",
     "text": [
      "C:\\Users\\jonat\\anaconda3\\lib\\site-packages\\ipykernel\\ipkernel.py:287: DeprecationWarning: `should_run_async` will not call `transform_cell` automatically in the future. Please pass the result to `transformed_cell` argument and any exception that happen during thetransform in `preprocessing_exc_tuple` in IPython 7.17 and above.\n"
     ]
    },
    {
     "data": {
      "image/svg+xml": [
       "<svg xmlns=\"http://www.w3.org/2000/svg\" width=\"800\" height=\"600\" version=\"1.1\"><g><rect x=\"0\" y=\"0\" width=\"800\" height=\"600\" fill=\"#f9f9f9\"/><g transform=\"translate(40 40)\"><g transform=\"translate(16 0)\"><text x=\"0\" y=\"0\" fill=\"#333\" font-family=\"Monaco\" font-size=\"16\">Customizing Columns</text></g><g transform=\"translate(0 20)\"><g transform=\"translate(16 0)\"><g class=\"axis bottom\"><g class=\"tick\"><line x1=\"88\" y1=\"0\" x2=\"88\" y2=\"482.0\" stroke=\"#eee\" stroke-width=\"1\"/><text x=\"88\" y=\"486.0\" dy=\"1em\" fill=\"#9c9c9c\" text-anchor=\"middle\" font-family=\"Monaco\">A</text></g><g class=\"tick\"><line x1=\"264\" y1=\"0\" x2=\"264\" y2=\"482.0\" stroke=\"#eee\" stroke-width=\"1\"/><text x=\"264\" y=\"486.0\" dy=\"1em\" fill=\"#9c9c9c\" text-anchor=\"middle\" font-family=\"Monaco\">B</text></g><g class=\"tick\"><line x1=\"440\" y1=\"0\" x2=\"440\" y2=\"482.0\" stroke=\"#eee\" stroke-width=\"1\"/><text x=\"440\" y=\"486.0\" dy=\"1em\" fill=\"#9c9c9c\" text-anchor=\"middle\" font-family=\"Monaco\">C</text></g><g class=\"tick\"><line x1=\"616\" y1=\"0\" x2=\"616\" y2=\"482.0\" stroke=\"#eee\" stroke-width=\"1\"/><text x=\"616\" y=\"486.0\" dy=\"1em\" fill=\"#9c9c9c\" text-anchor=\"middle\" font-family=\"Monaco\">D</text></g></g><g class=\"axis left\"><g class=\"tick\"><line x1=\"-4\" y1=\"358.50\" x2=\"704.0\" y2=\"358.50\" stroke=\"#eee\" stroke-width=\"1\"/><text x=\"-8\" y=\"358.50\" dy=\"0.32em\" fill=\"#9c9c9c\" text-anchor=\"end\" font-family=\"Monaco\">1</text></g><g class=\"tick\"><line x1=\"-4\" y1=\"239.0\" x2=\"704.0\" y2=\"239.0\" stroke=\"#eee\" stroke-width=\"1\"/><text x=\"-8\" y=\"239.0\" dy=\"0.32em\" fill=\"#9c9c9c\" text-anchor=\"end\" font-family=\"Monaco\">2</text></g><g class=\"tick\"><line x1=\"-4\" y1=\"119.50\" x2=\"704.0\" y2=\"119.50\" stroke=\"#eee\" stroke-width=\"1\"/><text x=\"-8\" y=\"119.50\" dy=\"0.32em\" fill=\"#9c9c9c\" text-anchor=\"end\" font-family=\"Monaco\">3</text></g><g class=\"tick\"><line x1=\"-4\" y1=\"0\" x2=\"704.0\" y2=\"0\" stroke=\"#eee\" stroke-width=\"1\"/><text x=\"-8\" y=\"0\" dy=\"0.32em\" fill=\"#9c9c9c\" text-anchor=\"end\" font-family=\"Monaco\">4</text></g><g class=\"tick\"><line x1=\"-4\" y1=\"478\" x2=\"704.0\" y2=\"478\" stroke=\"#a8a8a8\" stroke-width=\"1\"/><text x=\"-8\" y=\"478\" dy=\"0.32em\" fill=\"#9c9c9c\" text-anchor=\"end\" font-family=\"Monaco\">0</text></g></g><g><g class=\"series columns\"><rect x=\"8.8\" y=\"358.50\" width=\"158.4\" height=\"119.50\" fill=\"#77ff99\"/><rect x=\"184.8\" y=\"239.0\" width=\"158.4\" height=\"239.0\" fill=\"#77ff99\"/><rect x=\"360.8\" y=\"119.50\" width=\"158.4\" height=\"358.50\" fill=\"#77ff99\"/><rect x=\"536.8\" y=\"0\" width=\"158.4\" height=\"478\" fill=\"#77ff99\"/></g></g></g></g></g></g></svg>"
      ],
      "text/plain": [
       "<IPython.core.display.SVG object>"
      ]
     },
     "execution_count": 21,
     "metadata": {},
     "output_type": "execute_result"
    }
   ],
   "source": [
    "chart = leather.Chart('Customizing Columns')\n",
    "chart.add_columns(data, fill_color='#77ff99')\n",
    "chart.to_svg()"
   ]
  },
  {
   "cell_type": "code",
   "execution_count": 22,
   "metadata": {},
   "outputs": [
    {
     "name": "stderr",
     "output_type": "stream",
     "text": [
      "C:\\Users\\jonat\\anaconda3\\lib\\site-packages\\ipykernel\\ipkernel.py:287: DeprecationWarning: `should_run_async` will not call `transform_cell` automatically in the future. Please pass the result to `transformed_cell` argument and any exception that happen during thetransform in `preprocessing_exc_tuple` in IPython 7.17 and above.\n"
     ]
    },
    {
     "data": {
      "image/svg+xml": [
       "<svg xmlns=\"http://www.w3.org/2000/svg\" width=\"800\" height=\"600\" version=\"1.1\"><g><rect x=\"0\" y=\"0\" width=\"800\" height=\"600\" fill=\"#f9f9f9\"/><g transform=\"translate(40 40)\"><g transform=\"translate(16 0)\"><text x=\"0\" y=\"0\" fill=\"#333\" font-family=\"Monaco\" font-size=\"16\">The Ordinal Scale</text></g><g transform=\"translate(0 20)\"><g transform=\"translate(16 0)\"><g class=\"axis bottom\"><g class=\"tick\"><line x1=\"88\" y1=\"0\" x2=\"88\" y2=\"482.0\" stroke=\"#eee\" stroke-width=\"1\"/><text x=\"88\" y=\"486.0\" dy=\"1em\" fill=\"#9c9c9c\" text-anchor=\"middle\" font-family=\"Monaco\">A</text></g><g class=\"tick\"><line x1=\"264\" y1=\"0\" x2=\"264\" y2=\"482.0\" stroke=\"#eee\" stroke-width=\"1\"/><text x=\"264\" y=\"486.0\" dy=\"1em\" fill=\"#9c9c9c\" text-anchor=\"middle\" font-family=\"Monaco\">B</text></g><g class=\"tick\"><line x1=\"440\" y1=\"0\" x2=\"440\" y2=\"482.0\" stroke=\"#eee\" stroke-width=\"1\"/><text x=\"440\" y=\"486.0\" dy=\"1em\" fill=\"#9c9c9c\" text-anchor=\"middle\" font-family=\"Monaco\">C</text></g><g class=\"tick\"><line x1=\"616\" y1=\"0\" x2=\"616\" y2=\"482.0\" stroke=\"#eee\" stroke-width=\"1\"/><text x=\"616\" y=\"486.0\" dy=\"1em\" fill=\"#9c9c9c\" text-anchor=\"middle\" font-family=\"Monaco\">D</text></g></g><g class=\"axis left\"><g class=\"tick\"><line x1=\"-4\" y1=\"358.50\" x2=\"704.0\" y2=\"358.50\" stroke=\"#eee\" stroke-width=\"1\"/><text x=\"-8\" y=\"358.50\" dy=\"0.32em\" fill=\"#9c9c9c\" text-anchor=\"end\" font-family=\"Monaco\">1</text></g><g class=\"tick\"><line x1=\"-4\" y1=\"239.0\" x2=\"704.0\" y2=\"239.0\" stroke=\"#eee\" stroke-width=\"1\"/><text x=\"-8\" y=\"239.0\" dy=\"0.32em\" fill=\"#9c9c9c\" text-anchor=\"end\" font-family=\"Monaco\">2</text></g><g class=\"tick\"><line x1=\"-4\" y1=\"119.50\" x2=\"704.0\" y2=\"119.50\" stroke=\"#eee\" stroke-width=\"1\"/><text x=\"-8\" y=\"119.50\" dy=\"0.32em\" fill=\"#9c9c9c\" text-anchor=\"end\" font-family=\"Monaco\">3</text></g><g class=\"tick\"><line x1=\"-4\" y1=\"0\" x2=\"704.0\" y2=\"0\" stroke=\"#eee\" stroke-width=\"1\"/><text x=\"-8\" y=\"0\" dy=\"0.32em\" fill=\"#9c9c9c\" text-anchor=\"end\" font-family=\"Monaco\">4</text></g><g class=\"tick\"><line x1=\"-4\" y1=\"478\" x2=\"704.0\" y2=\"478\" stroke=\"#a8a8a8\" stroke-width=\"1\"/><text x=\"-8\" y=\"478\" dy=\"0.32em\" fill=\"#9c9c9c\" text-anchor=\"end\" font-family=\"Monaco\">0</text></g></g><g><g class=\"series columns\"><rect x=\"8.8\" y=\"358.50\" width=\"158.4\" height=\"119.50\" fill=\"#e41a1c\"/><rect x=\"184.8\" y=\"239.0\" width=\"158.4\" height=\"239.0\" fill=\"#e41a1c\"/><rect x=\"360.8\" y=\"119.50\" width=\"158.4\" height=\"358.50\" fill=\"#e41a1c\"/><rect x=\"536.8\" y=\"0\" width=\"158.4\" height=\"478\" fill=\"#e41a1c\"/></g></g></g></g></g></g></svg>"
      ],
      "text/plain": [
       "<IPython.core.display.SVG object>"
      ]
     },
     "execution_count": 22,
     "metadata": {},
     "output_type": "execute_result"
    }
   ],
   "source": [
    "chart = leather.Chart('The Ordinal Scale')\n",
    "chart.add_columns(data)\n",
    "chart.to_svg()"
   ]
  },
  {
   "cell_type": "code",
   "execution_count": 23,
   "metadata": {},
   "outputs": [
    {
     "name": "stderr",
     "output_type": "stream",
     "text": [
      "C:\\Users\\jonat\\anaconda3\\lib\\site-packages\\ipykernel\\ipkernel.py:287: DeprecationWarning: `should_run_async` will not call `transform_cell` automatically in the future. Please pass the result to `transformed_cell` argument and any exception that happen during thetransform in `preprocessing_exc_tuple` in IPython 7.17 and above.\n"
     ]
    },
    {
     "data": {
      "image/svg+xml": [
       "<svg xmlns=\"http://www.w3.org/2000/svg\" width=\"800\" height=\"600\" version=\"1.1\"><g><rect x=\"0\" y=\"0\" width=\"800\" height=\"600\" fill=\"#f9f9f9\"/><g transform=\"translate(40 40)\"><g transform=\"translate(32 0)\"><text x=\"0\" y=\"0\" fill=\"#333\" font-family=\"Monaco\" font-size=\"16\">Linear Scale</text></g><g transform=\"translate(0 20)\"><g transform=\"translate(32 0)\"><g class=\"axis bottom\"><g class=\"tick\"><line x1=\"172.00\" y1=\"0\" x2=\"172.00\" y2=\"482.0\" stroke=\"#eee\" stroke-width=\"1\"/><text x=\"172.00\" y=\"486.0\" dy=\"1em\" fill=\"#9c9c9c\" text-anchor=\"middle\" font-family=\"Monaco\">2</text></g><g class=\"tick\"><line x1=\"344.0\" y1=\"0\" x2=\"344.0\" y2=\"482.0\" stroke=\"#eee\" stroke-width=\"1\"/><text x=\"344.0\" y=\"486.0\" dy=\"1em\" fill=\"#9c9c9c\" text-anchor=\"middle\" font-family=\"Monaco\">4</text></g><g class=\"tick\"><line x1=\"516.00\" y1=\"0\" x2=\"516.00\" y2=\"482.0\" stroke=\"#eee\" stroke-width=\"1\"/><text x=\"516.00\" y=\"486.0\" dy=\"1em\" fill=\"#9c9c9c\" text-anchor=\"middle\" font-family=\"Monaco\">6</text></g><g class=\"tick\"><line x1=\"688\" y1=\"0\" x2=\"688\" y2=\"482.0\" stroke=\"#eee\" stroke-width=\"1\"/><text x=\"688\" y=\"486.0\" dy=\"1em\" fill=\"#9c9c9c\" text-anchor=\"middle\" font-family=\"Monaco\">8</text></g><g class=\"tick\"><line x1=\"0\" y1=\"0\" x2=\"0\" y2=\"482.0\" stroke=\"#a8a8a8\" stroke-width=\"1\"/><text x=\"0\" y=\"486.0\" dy=\"1em\" fill=\"#9c9c9c\" text-anchor=\"middle\" font-family=\"Monaco\">0</text></g></g><g class=\"axis left\"><g class=\"tick\"><line x1=\"-4\" y1=\"318.6666666666666666666666667\" x2=\"688.0\" y2=\"318.6666666666666666666666667\" stroke=\"#eee\" stroke-width=\"1\"/><text x=\"-8\" y=\"318.6666666666666666666666667\" dy=\"0.32em\" fill=\"#9c9c9c\" text-anchor=\"end\" font-family=\"Monaco\">2.5</text></g><g class=\"tick\"><line x1=\"-4\" y1=\"159.3333333333333333333333333\" x2=\"688.0\" y2=\"159.3333333333333333333333333\" stroke=\"#eee\" stroke-width=\"1\"/><text x=\"-8\" y=\"159.3333333333333333333333333\" dy=\"0.32em\" fill=\"#9c9c9c\" text-anchor=\"end\" font-family=\"Monaco\">5</text></g><g class=\"tick\"><line x1=\"-4\" y1=\"0\" x2=\"688.0\" y2=\"0\" stroke=\"#eee\" stroke-width=\"1\"/><text x=\"-8\" y=\"0\" dy=\"0.32em\" fill=\"#9c9c9c\" text-anchor=\"end\" font-family=\"Monaco\">7.5</text></g><g class=\"tick\"><line x1=\"-4\" y1=\"478\" x2=\"688.0\" y2=\"478\" stroke=\"#a8a8a8\" stroke-width=\"1\"/><text x=\"-8\" y=\"478\" dy=\"0.32em\" fill=\"#9c9c9c\" text-anchor=\"end\" font-family=\"Monaco\">0</text></g></g><g><g class=\"series lines\"><path stroke=\"#e41a1c\" fill=\"none\" stroke-width=\"2\" d=\"M 129.0000 350.5333333333333333333333333 L 172.00 286.8 L 387.0000 95.6 L 645.0000 223.0666666666666666666666667\"/></g></g></g></g></g></g></svg>"
      ],
      "text/plain": [
       "<IPython.core.display.SVG object>"
      ]
     },
     "execution_count": 23,
     "metadata": {},
     "output_type": "execute_result"
    }
   ],
   "source": [
    "chart = leather.Chart('Linear Scale')\n",
    "chart.add_x_scale(1, 8)\n",
    "chart.add_y_scale(1,7)\n",
    "chart.add_line(data1)\n",
    "chart.to_svg()"
   ]
  },
  {
   "cell_type": "code",
   "execution_count": 24,
   "metadata": {},
   "outputs": [
    {
     "name": "stderr",
     "output_type": "stream",
     "text": [
      "C:\\Users\\jonat\\anaconda3\\lib\\site-packages\\ipykernel\\ipkernel.py:287: DeprecationWarning: `should_run_async` will not call `transform_cell` automatically in the future. Please pass the result to `transformed_cell` argument and any exception that happen during thetransform in `preprocessing_exc_tuple` in IPython 7.17 and above.\n"
     ]
    },
    {
     "data": {
      "image/svg+xml": [
       "<svg xmlns=\"http://www.w3.org/2000/svg\" width=\"800\" height=\"600\" version=\"1.1\"><g><rect x=\"0\" y=\"0\" width=\"800\" height=\"600\" fill=\"#f9f9f9\"/><g transform=\"translate(40 40)\"><g transform=\"translate(16 0)\"><text x=\"0\" y=\"0\" fill=\"#333\" font-family=\"Monaco\" font-size=\"16\">Temporal Scale</text></g><g transform=\"translate(0 20)\"><g transform=\"translate(16 0)\"><g class=\"axis bottom\"><g class=\"tick\"><line x1=\"0.0\" y1=\"0\" x2=\"0.0\" y2=\"482.0\" stroke=\"#eee\" stroke-width=\"1\"/><text x=\"0.0\" y=\"486.0\" dy=\"1em\" fill=\"#9c9c9c\" text-anchor=\"middle\" font-family=\"Monaco\">2019-09</text></g><g class=\"tick\"><line x1=\"176.0\" y1=\"0\" x2=\"176.0\" y2=\"482.0\" stroke=\"#eee\" stroke-width=\"1\"/><text x=\"176.0\" y=\"486.0\" dy=\"1em\" fill=\"#9c9c9c\" text-anchor=\"middle\" font-family=\"Monaco\">2020-01</text></g><g class=\"tick\"><line x1=\"350.55737704918033\" y1=\"0\" x2=\"350.55737704918033\" y2=\"482.0\" stroke=\"#eee\" stroke-width=\"1\"/><text x=\"350.55737704918033\" y=\"486.0\" dy=\"1em\" fill=\"#9c9c9c\" text-anchor=\"middle\" font-family=\"Monaco\">2020-05</text></g><g class=\"tick\"><line x1=\"528.0\" y1=\"0\" x2=\"528.0\" y2=\"482.0\" stroke=\"#eee\" stroke-width=\"1\"/><text x=\"528.0\" y=\"486.0\" dy=\"1em\" fill=\"#9c9c9c\" text-anchor=\"middle\" font-family=\"Monaco\">2020-09</text></g><g class=\"tick\"><line x1=\"704.0\" y1=\"0\" x2=\"704.0\" y2=\"482.0\" stroke=\"#eee\" stroke-width=\"1\"/><text x=\"704.0\" y=\"486.0\" dy=\"1em\" fill=\"#9c9c9c\" text-anchor=\"middle\" font-family=\"Monaco\">2021-01</text></g></g><g class=\"axis left\"><g class=\"tick\"><line x1=\"-4\" y1=\"478\" x2=\"704.0\" y2=\"478\" stroke=\"#eee\" stroke-width=\"1\"/><text x=\"-8\" y=\"478\" dy=\"0.32em\" fill=\"#9c9c9c\" text-anchor=\"end\" font-family=\"Monaco\">1</text></g><g class=\"tick\"><line x1=\"-4\" y1=\"382.4\" x2=\"704.0\" y2=\"382.4\" stroke=\"#eee\" stroke-width=\"1\"/><text x=\"-8\" y=\"382.4\" dy=\"0.32em\" fill=\"#9c9c9c\" text-anchor=\"end\" font-family=\"Monaco\">2</text></g><g class=\"tick\"><line x1=\"-4\" y1=\"286.8\" x2=\"704.0\" y2=\"286.8\" stroke=\"#eee\" stroke-width=\"1\"/><text x=\"-8\" y=\"286.8\" dy=\"0.32em\" fill=\"#9c9c9c\" text-anchor=\"end\" font-family=\"Monaco\">3</text></g><g class=\"tick\"><line x1=\"-4\" y1=\"191.2\" x2=\"704.0\" y2=\"191.2\" stroke=\"#eee\" stroke-width=\"1\"/><text x=\"-8\" y=\"191.2\" dy=\"0.32em\" fill=\"#9c9c9c\" text-anchor=\"end\" font-family=\"Monaco\">4</text></g><g class=\"tick\"><line x1=\"-4\" y1=\"95.6\" x2=\"704.0\" y2=\"95.6\" stroke=\"#eee\" stroke-width=\"1\"/><text x=\"-8\" y=\"95.6\" dy=\"0.32em\" fill=\"#9c9c9c\" text-anchor=\"end\" font-family=\"Monaco\">5</text></g><g class=\"tick\"><line x1=\"-4\" y1=\"0\" x2=\"704.0\" y2=\"0\" stroke=\"#eee\" stroke-width=\"1\"/><text x=\"-8\" y=\"0\" dy=\"0.32em\" fill=\"#9c9c9c\" text-anchor=\"end\" font-family=\"Monaco\">6</text></g></g><g><g class=\"series lines\"><path stroke=\"#e41a1c\" fill=\"none\" stroke-width=\"2\" d=\"M 176.0 191.2 L 262.55737704918033 0 L 395.27868852459017 382.4 L 528.0 478\"/></g></g></g></g></g></g></svg>"
      ],
      "text/plain": [
       "<IPython.core.display.SVG object>"
      ]
     },
     "execution_count": 24,
     "metadata": {},
     "output_type": "execute_result"
    }
   ],
   "source": [
    "from datetime import date\n",
    "\n",
    "data = [\n",
    "    (date(2020, 1, 1), 4),\n",
    "    (date(2020, 3, 1), 6),\n",
    "    (date(2020, 6, 1), 2),\n",
    "    (date(2020, 9, 1), 1)]\n",
    "chart = leather.Chart('Temporal Scale')\n",
    "chart.add_x_scale(date(2019, 9, 1), date(2020, 12, 1))\n",
    "chart.add_line(data)\n",
    "chart.to_svg()"
   ]
  },
  {
   "cell_type": "code",
   "execution_count": 25,
   "metadata": {},
   "outputs": [
    {
     "name": "stderr",
     "output_type": "stream",
     "text": [
      "C:\\Users\\jonat\\anaconda3\\lib\\site-packages\\ipykernel\\ipkernel.py:287: DeprecationWarning: `should_run_async` will not call `transform_cell` automatically in the future. Please pass the result to `transformed_cell` argument and any exception that happen during thetransform in `preprocessing_exc_tuple` in IPython 7.17 and above.\n"
     ]
    },
    {
     "data": {
      "image/svg+xml": [
       "<svg xmlns=\"http://www.w3.org/2000/svg\" width=\"800\" height=\"600\" version=\"1.1\"><g><rect x=\"0\" y=\"0\" width=\"800\" height=\"600\" fill=\"#f9f9f9\"/><g transform=\"translate(40 40)\"><g transform=\"translate(16 0)\"><text x=\"0\" y=\"0\" fill=\"#333\" font-family=\"Monaco\" font-size=\"16\">Ticks Demo</text></g><g transform=\"translate(0 20)\"><g transform=\"translate(16 0)\"><g class=\"axis bottom\"><g class=\"tick\"><line x1=\"176.00\" y1=\"0\" x2=\"176.00\" y2=\"482.0\" stroke=\"#eee\" stroke-width=\"1\"/><text x=\"176.00\" y=\"486.0\" dy=\"1em\" fill=\"#9c9c9c\" text-anchor=\"middle\" font-family=\"Monaco\">2</text></g><g class=\"tick\"><line x1=\"352.0\" y1=\"0\" x2=\"352.0\" y2=\"482.0\" stroke=\"#eee\" stroke-width=\"1\"/><text x=\"352.0\" y=\"486.0\" dy=\"1em\" fill=\"#9c9c9c\" text-anchor=\"middle\" font-family=\"Monaco\">4</text></g><g class=\"tick\"><line x1=\"528.00\" y1=\"0\" x2=\"528.00\" y2=\"482.0\" stroke=\"#eee\" stroke-width=\"1\"/><text x=\"528.00\" y=\"486.0\" dy=\"1em\" fill=\"#9c9c9c\" text-anchor=\"middle\" font-family=\"Monaco\">6</text></g><g class=\"tick\"><line x1=\"704\" y1=\"0\" x2=\"704\" y2=\"482.0\" stroke=\"#eee\" stroke-width=\"1\"/><text x=\"704\" y=\"486.0\" dy=\"1em\" fill=\"#9c9c9c\" text-anchor=\"middle\" font-family=\"Monaco\">8</text></g><g class=\"tick\"><line x1=\"0\" y1=\"0\" x2=\"0\" y2=\"482.0\" stroke=\"#a8a8a8\" stroke-width=\"1\"/><text x=\"0\" y=\"486.0\" dy=\"1em\" fill=\"#9c9c9c\" text-anchor=\"middle\" font-family=\"Monaco\">0</text></g></g><g class=\"axis left\"><g class=\"tick\"><line x1=\"-4\" y1=\"414.2666666666666666666666667\" x2=\"704.0\" y2=\"414.2666666666666666666666667\" stroke=\"#eee\" stroke-width=\"1\"/><text x=\"-8\" y=\"414.2666666666666666666666667\" dy=\"0.32em\" fill=\"#9c9c9c\" text-anchor=\"end\" font-family=\"Monaco\">1</text></g><g class=\"tick\"><line x1=\"-4\" y1=\"350.5333333333333333333333333\" x2=\"704.0\" y2=\"350.5333333333333333333333333\" stroke=\"#eee\" stroke-width=\"1\"/><text x=\"-8\" y=\"350.5333333333333333333333333\" dy=\"0.32em\" fill=\"#9c9c9c\" text-anchor=\"end\" font-family=\"Monaco\">2</text></g><g class=\"tick\"><line x1=\"-4\" y1=\"286.8\" x2=\"704.0\" y2=\"286.8\" stroke=\"#eee\" stroke-width=\"1\"/><text x=\"-8\" y=\"286.8\" dy=\"0.32em\" fill=\"#9c9c9c\" text-anchor=\"end\" font-family=\"Monaco\">3</text></g><g class=\"tick\"><line x1=\"-4\" y1=\"223.0666666666666666666666667\" x2=\"704.0\" y2=\"223.0666666666666666666666667\" stroke=\"#eee\" stroke-width=\"1\"/><text x=\"-8\" y=\"223.0666666666666666666666667\" dy=\"0.32em\" fill=\"#9c9c9c\" text-anchor=\"end\" font-family=\"Monaco\">4</text></g><g class=\"tick\"><line x1=\"-4\" y1=\"159.3333333333333333333333333\" x2=\"704.0\" y2=\"159.3333333333333333333333333\" stroke=\"#eee\" stroke-width=\"1\"/><text x=\"-8\" y=\"159.3333333333333333333333333\" dy=\"0.32em\" fill=\"#9c9c9c\" text-anchor=\"end\" font-family=\"Monaco\">5</text></g><g class=\"tick\"><line x1=\"-4\" y1=\"95.6\" x2=\"704.0\" y2=\"95.6\" stroke=\"#eee\" stroke-width=\"1\"/><text x=\"-8\" y=\"95.6\" dy=\"0.32em\" fill=\"#9c9c9c\" text-anchor=\"end\" font-family=\"Monaco\">6</text></g><g class=\"tick\"><line x1=\"-4\" y1=\"31.8666666666666666666666667\" x2=\"704.0\" y2=\"31.8666666666666666666666667\" stroke=\"#eee\" stroke-width=\"1\"/><text x=\"-8\" y=\"31.8666666666666666666666667\" dy=\"0.32em\" fill=\"#9c9c9c\" text-anchor=\"end\" font-family=\"Monaco\">7</text></g></g><g><g class=\"series lines\"><path stroke=\"#e41a1c\" fill=\"none\" stroke-width=\"2\" d=\"M 132.0000 350.5333333333333333333333333 L 176.00 286.8 L 396.0000 95.6 L 660.0000 223.0666666666666666666666667\"/></g></g></g></g></g></g></svg>"
      ],
      "text/plain": [
       "<IPython.core.display.SVG object>"
      ]
     },
     "execution_count": 25,
     "metadata": {},
     "output_type": "execute_result"
    }
   ],
   "source": [
    "chart = leather.Chart('Ticks Demo')\n",
    "chart.add_x_scale(1, 8)\n",
    "chart.add_y_axis(ticks=[1, 2, 3, 4, 5, 6, 7, 8])\n",
    "chart.add_y_scale(1, 7)\n",
    "chart.add_y_axis(ticks=[1, 2, 3, 4, 5, 6, 7])\n",
    "chart.add_line(data1)\n",
    "chart.to_svg()"
   ]
  },
  {
   "cell_type": "code",
   "execution_count": 27,
   "metadata": {},
   "outputs": [
    {
     "name": "stderr",
     "output_type": "stream",
     "text": [
      "C:\\Users\\jonat\\anaconda3\\lib\\site-packages\\ipykernel\\ipkernel.py:287: DeprecationWarning: `should_run_async` will not call `transform_cell` automatically in the future. Please pass the result to `transformed_cell` argument and any exception that happen during thetransform in `preprocessing_exc_tuple` in IPython 7.17 and above.\n"
     ]
    },
    {
     "data": {
      "image/svg+xml": [
       "<svg xmlns=\"http://www.w3.org/2000/svg\" width=\"800\" height=\"600\" version=\"1.1\"><g><rect x=\"0\" y=\"0\" width=\"800\" height=\"600\" fill=\"#f9f9f9\"/><g transform=\"translate(40 40)\"><g transform=\"translate(16 0)\"><text x=\"0\" y=\"0\" fill=\"#333\" font-family=\"Times New Roman\" font-size=\"16\">Custom Fonts</text><g transform=\"translate(0 20)\"><g transform=\"translate(0 0)\"><rect x=\"0\" y=\"-10\" width=\"10\" height=\"10\" fill=\"#77ff22\"/><text x=\"14\" y=\"0\" fill=\"#666\" font-family=\"Times New Roman\" font-size=\"14\">Unnamed series</text></g><g transform=\"translate(158 0)\"><rect x=\"0\" y=\"-10\" width=\"10\" height=\"10\" fill=\"#0099ff\"/><text x=\"14\" y=\"0\" fill=\"#666\" font-family=\"Times New Roman\" font-size=\"14\">Unnamed series</text></g></g></g><g transform=\"translate(0 38)\"><g transform=\"translate(16 0)\"><g class=\"axis bottom\"><g class=\"tick\"><line x1=\"234.6666666666666666666666666\" y1=\"0\" x2=\"234.6666666666666666666666666\" y2=\"464.0\" stroke=\"#eee\" stroke-width=\"1\"/><text x=\"234.6666666666666666666666666\" y=\"468.0\" dy=\"1em\" fill=\"#9c9c9c\" text-anchor=\"middle\" font-family=\"Times New Roman\">2.5</text></g><g class=\"tick\"><line x1=\"469.3333333333333333333333334\" y1=\"0\" x2=\"469.3333333333333333333333334\" y2=\"464.0\" stroke=\"#eee\" stroke-width=\"1\"/><text x=\"469.3333333333333333333333334\" y=\"468.0\" dy=\"1em\" fill=\"#9c9c9c\" text-anchor=\"middle\" font-family=\"Times New Roman\">5</text></g><g class=\"tick\"><line x1=\"704\" y1=\"0\" x2=\"704\" y2=\"464.0\" stroke=\"#eee\" stroke-width=\"1\"/><text x=\"704\" y=\"468.0\" dy=\"1em\" fill=\"#9c9c9c\" text-anchor=\"middle\" font-family=\"Times New Roman\">7.5</text></g><g class=\"tick\"><line x1=\"0\" y1=\"0\" x2=\"0\" y2=\"464.0\" stroke=\"#a8a8a8\" stroke-width=\"1\"/><text x=\"0\" y=\"468.0\" dy=\"1em\" fill=\"#9c9c9c\" text-anchor=\"middle\" font-family=\"Times New Roman\">0</text></g></g><g class=\"axis left\"><g class=\"tick\"><line x1=\"-4\" y1=\"460\" x2=\"704.0\" y2=\"460\" stroke=\"#eee\" stroke-width=\"1\"/><text x=\"-8\" y=\"460\" dy=\"0.32em\" fill=\"#9c9c9c\" text-anchor=\"end\" font-family=\"Times New Roman\">2</text></g><g class=\"tick\"><line x1=\"-4\" y1=\"345.00\" x2=\"704.0\" y2=\"345.00\" stroke=\"#eee\" stroke-width=\"1\"/><text x=\"-8\" y=\"345.00\" dy=\"0.32em\" fill=\"#9c9c9c\" text-anchor=\"end\" font-family=\"Times New Roman\">3</text></g><g class=\"tick\"><line x1=\"-4\" y1=\"230.0\" x2=\"704.0\" y2=\"230.0\" stroke=\"#eee\" stroke-width=\"1\"/><text x=\"-8\" y=\"230.0\" dy=\"0.32em\" fill=\"#9c9c9c\" text-anchor=\"end\" font-family=\"Times New Roman\">4</text></g><g class=\"tick\"><line x1=\"-4\" y1=\"115.00\" x2=\"704.0\" y2=\"115.00\" stroke=\"#eee\" stroke-width=\"1\"/><text x=\"-8\" y=\"115.00\" dy=\"0.32em\" fill=\"#9c9c9c\" text-anchor=\"end\" font-family=\"Times New Roman\">5</text></g><g class=\"tick\"><line x1=\"-4\" y1=\"0\" x2=\"704.0\" y2=\"0\" stroke=\"#eee\" stroke-width=\"1\"/><text x=\"-8\" y=\"0\" dy=\"0.32em\" fill=\"#9c9c9c\" text-anchor=\"end\" font-family=\"Times New Roman\">6</text></g></g><g><g class=\"series lines\"><path stroke=\"#77ff22\" fill=\"none\" stroke-width=\"2\" d=\"M 140.8 460 L 187.7333333333333333333333334 345.00 L 422.4 0 L 704 230.0\"/></g><g class=\"series lines\"><path stroke=\"#0099ff\" fill=\"none\" stroke-width=\"2\" d=\"M 187.7333333333333333333333334 345.00 L 375.4666666666666666666666666 115.00 L 469.3333333333333333333333334 0 L 657.0666666666666666666666666 115.00\"/></g></g></g></g></g></g></svg>"
      ],
      "text/plain": [
       "<IPython.core.display.SVG object>"
      ]
     },
     "execution_count": 27,
     "metadata": {},
     "output_type": "execute_result"
    }
   ],
   "source": [
    "leather.theme.title_font_family = 'Times New Roman'\n",
    "leather.theme.legend_font_family = 'Times New Roman'\n",
    "leather.theme.tick_font_family = 'Times New Roman'\n",
    "leather.theme.default_series_colors = ['#77ff22', '#0099ff']\n",
    "chart = leather.Chart('Custom Fonts')\n",
    "chart.add_line(data1)\n",
    "chart.add_line(data2)\n",
    "chart.to_svg()"
   ]
  },
  {
   "cell_type": "code",
   "execution_count": 28,
   "metadata": {},
   "outputs": [
    {
     "name": "stderr",
     "output_type": "stream",
     "text": [
      "C:\\Users\\jonat\\anaconda3\\lib\\site-packages\\ipykernel\\ipkernel.py:287: DeprecationWarning: `should_run_async` will not call `transform_cell` automatically in the future. Please pass the result to `transformed_cell` argument and any exception that happen during thetransform in `preprocessing_exc_tuple` in IPython 7.17 and above.\n"
     ]
    },
    {
     "data": {
      "image/svg+xml": [
       "<svg xmlns=\"http://www.w3.org/2000/svg\" width=\"800\" height=\"600\" version=\"1.1\"><g><rect x=\"0\" y=\"0\" width=\"800\" height=\"600\" fill=\"#f9f9f9\"/><g transform=\"translate(40 40)\"><g transform=\"translate(32 0)\"><text x=\"0\" y=\"0\" fill=\"#333\" font-family=\"Times New Roman\" font-size=\"16\">Colorized dots</text></g><g transform=\"translate(0 20)\"><g transform=\"translate(32 0)\"><g class=\"axis bottom\"><g class=\"tick\"><line x1=\"229.3333333333333333333333333\" y1=\"0\" x2=\"229.3333333333333333333333333\" y2=\"482.0\" stroke=\"#eee\" stroke-width=\"1\"/><text x=\"229.3333333333333333333333333\" y=\"486.0\" dy=\"1em\" fill=\"#9c9c9c\" text-anchor=\"middle\" font-family=\"Times New Roman\">100</text></g><g class=\"tick\"><line x1=\"458.6666666666666666666666667\" y1=\"0\" x2=\"458.6666666666666666666666667\" y2=\"482.0\" stroke=\"#eee\" stroke-width=\"1\"/><text x=\"458.6666666666666666666666667\" y=\"486.0\" dy=\"1em\" fill=\"#9c9c9c\" text-anchor=\"middle\" font-family=\"Times New Roman\">200</text></g><g class=\"tick\"><line x1=\"688\" y1=\"0\" x2=\"688\" y2=\"482.0\" stroke=\"#eee\" stroke-width=\"1\"/><text x=\"688\" y=\"486.0\" dy=\"1em\" fill=\"#9c9c9c\" text-anchor=\"middle\" font-family=\"Times New Roman\">300</text></g><g class=\"tick\"><line x1=\"0\" y1=\"0\" x2=\"0\" y2=\"482.0\" stroke=\"#a8a8a8\" stroke-width=\"1\"/><text x=\"0\" y=\"486.0\" dy=\"1em\" fill=\"#9c9c9c\" text-anchor=\"middle\" font-family=\"Times New Roman\">0</text></g></g><g class=\"axis left\"><g class=\"tick\"><line x1=\"-4\" y1=\"318.6666666666666666666666667\" x2=\"688.0\" y2=\"318.6666666666666666666666667\" stroke=\"#eee\" stroke-width=\"1\"/><text x=\"-8\" y=\"318.6666666666666666666666667\" dy=\"0.32em\" fill=\"#9c9c9c\" text-anchor=\"end\" font-family=\"Times New Roman\">100</text></g><g class=\"tick\"><line x1=\"-4\" y1=\"159.3333333333333333333333333\" x2=\"688.0\" y2=\"159.3333333333333333333333333\" stroke=\"#eee\" stroke-width=\"1\"/><text x=\"-8\" y=\"159.3333333333333333333333333\" dy=\"0.32em\" fill=\"#9c9c9c\" text-anchor=\"end\" font-family=\"Times New Roman\">200</text></g><g class=\"tick\"><line x1=\"-4\" y1=\"0\" x2=\"688.0\" y2=\"0\" stroke=\"#eee\" stroke-width=\"1\"/><text x=\"-8\" y=\"0\" dy=\"0.32em\" fill=\"#9c9c9c\" text-anchor=\"end\" font-family=\"Times New Roman\">300</text></g><g class=\"tick\"><line x1=\"-4\" y1=\"478\" x2=\"688.0\" y2=\"478\" stroke=\"#a8a8a8\" stroke-width=\"1\"/><text x=\"-8\" y=\"478\" dy=\"0.32em\" fill=\"#9c9c9c\" text-anchor=\"end\" font-family=\"Times New Roman\">0</text></g></g><g><g class=\"series dots\"><circle cx=\"119.2533333333333333333333333\" cy=\"325.04\" r=\"3\" fill=\"rgb(52, 96, 150)\"/><circle cx=\"518.2933333333333333333333333\" cy=\"264.4933333333333333333333333\" r=\"3\" fill=\"rgb(226, 134, 150)\"/><circle cx=\"183.4666666666666666666666667\" cy=\"246.9666666666666666666666667\" r=\"3\" fill=\"rgb(80, 145, 150)\"/><circle cx=\"483.8933333333333333333333333\" cy=\"218.2866666666666666666666667\" r=\"3\" fill=\"rgb(211, 163, 150)\"/><circle cx=\"105.4933333333333333333333333\" cy=\"321.8533333333333333333333333\" r=\"3\" fill=\"rgb(46, 98, 150)\"/><circle cx=\"504.5333333333333333333333333\" cy=\"388.7733333333333333333333333\" r=\"3\" fill=\"rgb(220, 56, 150)\"/><circle cx=\"474.72\" cy=\"235.8133333333333333333333333\" r=\"3\" fill=\"rgb(207, 152, 150)\"/><circle cx=\"298.1333333333333333333333333\" cy=\"89.2266666666666666666666667\" r=\"3\" fill=\"rgb(130, 244, 150)\"/><circle cx=\"350.88\" cy=\"269.2733333333333333333333333\" r=\"3\" fill=\"rgb(153, 131, 150)\"/><circle cx=\"477.0133333333333333333333333\" cy=\"463.66\" r=\"3\" fill=\"rgb(208, 9, 150)\"/><circle cx=\"34.40\" cy=\"122.6866666666666666666666667\" r=\"3\" fill=\"rgb(15, 223, 150)\"/><circle cx=\"222.4533333333333333333333333\" cy=\"194.3866666666666666666666667\" r=\"3\" fill=\"rgb(97, 178, 150)\"/><circle cx=\"339.4133333333333333333333333\" cy=\"274.0533333333333333333333333\" r=\"3\" fill=\"rgb(148, 128, 150)\"/><circle cx=\"449.4933333333333333333333333\" cy=\"285.2066666666666666666666667\" r=\"3\" fill=\"rgb(196, 121, 150)\"/><circle cx=\"341.7066666666666666666666667\" cy=\"358.50\" r=\"3\" fill=\"rgb(149, 75, 150)\"/><circle cx=\"172.00\" cy=\"289.9866666666666666666666667\" r=\"3\" fill=\"rgb(75, 118, 150)\"/><circle cx=\"433.44\" cy=\"248.56\" r=\"3\" fill=\"rgb(189, 144, 150)\"/><circle cx=\"536.64\" cy=\"224.66\" r=\"3\" fill=\"rgb(234, 159, 150)\"/><circle cx=\"360.0533333333333333333333333\" cy=\"317.0733333333333333333333333\" r=\"3\" fill=\"rgb(157, 101, 150)\"/><circle cx=\"332.5333333333333333333333333\" cy=\"385.5866666666666666666666667\" r=\"3\" fill=\"rgb(145, 58, 150)\"/><circle cx=\"305.0133333333333333333333333\" cy=\"366.4666666666666666666666667\" r=\"3\" fill=\"rgb(133, 70, 150)\"/><circle cx=\"392.16\" cy=\"186.42\" r=\"3\" fill=\"rgb(171, 183, 150)\"/><circle cx=\"571.04\" cy=\"297.9533333333333333333333333\" r=\"3\" fill=\"rgb(249, 113, 150)\"/><circle cx=\"399.04\" cy=\"278.8333333333333333333333333\" r=\"3\" fill=\"rgb(174, 125, 150)\"/><circle cx=\"52.74666666666666666666666667\" cy=\"406.30\" r=\"3\" fill=\"rgb(23, 45, 150)\"/><circle cx=\"541.2266666666666666666666667\" cy=\"256.5266666666666666666666667\" r=\"3\" fill=\"rgb(236, 139, 150)\"/><circle cx=\"142.1866666666666666666666667\" cy=\"352.1266666666666666666666667\" r=\"3\" fill=\"rgb(62, 79, 150)\"/><circle cx=\"243.0933333333333333333333333\" cy=\"457.2866666666666666666666667\" r=\"3\" fill=\"rgb(106, 13, 150)\"/><circle cx=\"456.3733333333333333333333333\" cy=\"403.1133333333333333333333333\" r=\"3\" fill=\"rgb(199, 47, 150)\"/><circle cx=\"135.3066666666666666666666667\" cy=\"395.1466666666666666666666667\" r=\"3\" fill=\"rgb(59, 52, 150)\"/><circle cx=\"502.24\" cy=\"203.9466666666666666666666667\" r=\"3\" fill=\"rgb(219, 172, 150)\"/><circle cx=\"378.40\" cy=\"135.4333333333333333333333333\" r=\"3\" fill=\"rgb(165, 215, 150)\"/><circle cx=\"417.3866666666666666666666667\" cy=\"213.5066666666666666666666667\" r=\"3\" fill=\"rgb(182, 166, 150)\"/><circle cx=\"516.00\" cy=\"446.1333333333333333333333333\" r=\"3\" fill=\"rgb(225, 20, 150)\"/><circle cx=\"4.586666666666666666666666667\" cy=\"317.0733333333333333333333333\" r=\"3\" fill=\"rgb(2, 101, 150)\"/><circle cx=\"256.8533333333333333333333333\" cy=\"235.8133333333333333333333333\" r=\"3\" fill=\"rgb(112, 152, 150)\"/><circle cx=\"295.84\" cy=\"336.1933333333333333333333333\" r=\"3\" fill=\"rgb(129, 89, 150)\"/><circle cx=\"71.09333333333333333333333331\" cy=\"103.5666666666666666666666667\" r=\"3\" fill=\"rgb(31, 235, 150)\"/><circle cx=\"380.6933333333333333333333333\" cy=\"280.4266666666666666666666667\" r=\"3\" fill=\"rgb(166, 124, 150)\"/><circle cx=\"167.4133333333333333333333333\" cy=\"454.10\" r=\"3\" fill=\"rgb(73, 15, 150)\"/><circle cx=\"412.8\" cy=\"449.32\" r=\"3\" fill=\"rgb(180, 18, 150)\"/><circle cx=\"80.26666666666666666666666669\" cy=\"478\" r=\"3\" fill=\"rgb(35, 0, 150)\"/><circle cx=\"456.3733333333333333333333333\" cy=\"89.2266666666666666666666667\" r=\"3\" fill=\"rgb(199, 244, 150)\"/><circle cx=\"172.00\" cy=\"403.1133333333333333333333333\" r=\"3\" fill=\"rgb(75, 47, 150)\"/><circle cx=\"520.5866666666666666666666667\" cy=\"226.2533333333333333333333333\" r=\"3\" fill=\"rgb(227, 158, 150)\"/><circle cx=\"357.76\" cy=\"231.0333333333333333333333333\" r=\"3\" fill=\"rgb(156, 155, 150)\"/><circle cx=\"105.4933333333333333333333333\" cy=\"344.16\" r=\"3\" fill=\"rgb(46, 84, 150)\"/><circle cx=\"126.1333333333333333333333333\" cy=\"307.5133333333333333333333333\" r=\"3\" fill=\"rgb(55, 107, 150)\"/><circle cx=\"463.2533333333333333333333333\" cy=\"468.44\" r=\"3\" fill=\"rgb(202, 6, 150)\"/><circle cx=\"55.04\" cy=\"289.9866666666666666666666667\" r=\"3\" fill=\"rgb(24, 118, 150)\"/><circle cx=\"509.12\" cy=\"339.38\" r=\"3\" fill=\"rgb(222, 87, 150)\"/><circle cx=\"240.80\" cy=\"175.2666666666666666666666667\" r=\"3\" fill=\"rgb(105, 190, 150)\"/><circle cx=\"405.92\" cy=\"360.0933333333333333333333333\" r=\"3\" fill=\"rgb(177, 74, 150)\"/><circle cx=\"91.73333333333333333333333331\" cy=\"248.56\" r=\"3\" fill=\"rgb(40, 144, 150)\"/><circle cx=\"80.26666666666666666666666669\" cy=\"293.1733333333333333333333333\" r=\"3\" fill=\"rgb(35, 116, 150)\"/><circle cx=\"167.4133333333333333333333333\" cy=\"422.2333333333333333333333333\" r=\"3\" fill=\"rgb(73, 35, 150)\"/><circle cx=\"456.3733333333333333333333333\" cy=\"449.32\" r=\"3\" fill=\"rgb(199, 18, 150)\"/><circle cx=\"174.2933333333333333333333333\" cy=\"415.86\" r=\"3\" fill=\"rgb(76, 39, 150)\"/><circle cx=\"254.56\" cy=\"197.5733333333333333333333333\" r=\"3\" fill=\"rgb(111, 176, 150)\"/><circle cx=\"387.5733333333333333333333333\" cy=\"297.9533333333333333333333333\" r=\"3\" fill=\"rgb(169, 113, 150)\"/><circle cx=\"252.2666666666666666666666667\" cy=\"151.3666666666666666666666667\" r=\"3\" fill=\"rgb(110, 205, 150)\"/><circle cx=\"417.3866666666666666666666667\" cy=\"441.3533333333333333333333333\" r=\"3\" fill=\"rgb(182, 23, 150)\"/><circle cx=\"224.7466666666666666666666667\" cy=\"205.54\" r=\"3\" fill=\"rgb(98, 171, 150)\"/><circle cx=\"490.7733333333333333333333333\" cy=\"82.8533333333333333333333333\" r=\"3\" fill=\"rgb(214, 248, 150)\"/><circle cx=\"353.1733333333333333333333333\" cy=\"207.1333333333333333333333333\" r=\"3\" fill=\"rgb(154, 170, 150)\"/><circle cx=\"149.0666666666666666666666667\" cy=\"383.9933333333333333333333333\" r=\"3\" fill=\"rgb(65, 59, 150)\"/><circle cx=\"254.56\" cy=\"183.2333333333333333333333333\" r=\"3\" fill=\"rgb(111, 185, 150)\"/><circle cx=\"472.4266666666666666666666667\" cy=\"254.9333333333333333333333333\" r=\"3\" fill=\"rgb(206, 140, 150)\"/><circle cx=\"518.2933333333333333333333333\" cy=\"191.2\" r=\"3\" fill=\"rgb(226, 180, 150)\"/><circle cx=\"201.8133333333333333333333333\" cy=\"313.8866666666666666666666667\" r=\"3\" fill=\"rgb(88, 103, 150)\"/><circle cx=\"373.8133333333333333333333333\" cy=\"420.64\" r=\"3\" fill=\"rgb(163, 36, 150)\"/><circle cx=\"559.5733333333333333333333333\" cy=\"471.6266666666666666666666667\" r=\"3\" fill=\"rgb(244, 4, 150)\"/><circle cx=\"506.8266666666666666666666667\" cy=\"352.1266666666666666666666667\" r=\"3\" fill=\"rgb(221, 79, 150)\"/><circle cx=\"153.6533333333333333333333333\" cy=\"116.3133333333333333333333333\" r=\"3\" fill=\"rgb(67, 227, 150)\"/><circle cx=\"48.16\" cy=\"111.5333333333333333333333333\" r=\"3\" fill=\"rgb(21, 230, 150)\"/><circle cx=\"158.24\" cy=\"224.66\" r=\"3\" fill=\"rgb(69, 159, 150)\"/><circle cx=\"481.6\" cy=\"202.3533333333333333333333333\" r=\"3\" fill=\"rgb(210, 173, 150)\"/><circle cx=\"107.7866666666666666666666667\" cy=\"336.1933333333333333333333333\" r=\"3\" fill=\"rgb(47, 89, 150)\"/><circle cx=\"394.4533333333333333333333333\" cy=\"403.1133333333333333333333333\" r=\"3\" fill=\"rgb(172, 47, 150)\"/><circle cx=\"116.96\" cy=\"383.9933333333333333333333333\" r=\"3\" fill=\"rgb(51, 59, 150)\"/><circle cx=\"419.68\" cy=\"269.2733333333333333333333333\" r=\"3\" fill=\"rgb(183, 131, 150)\"/><circle cx=\"38.98666666666666666666666667\" cy=\"216.6933333333333333333333333\" r=\"3\" fill=\"rgb(17, 164, 150)\"/><circle cx=\"284.3733333333333333333333333\" cy=\"266.0866666666666666666666667\" r=\"3\" fill=\"rgb(124, 133, 150)\"/><circle cx=\"238.5066666666666666666666667\" cy=\"301.14\" r=\"3\" fill=\"rgb(104, 111, 150)\"/><circle cx=\"516.00\" cy=\"379.2133333333333333333333333\" r=\"3\" fill=\"rgb(225, 62, 150)\"/><circle cx=\"89.44\" cy=\"423.8266666666666666666666667\" r=\"3\" fill=\"rgb(39, 34, 150)\"/><circle cx=\"548.1066666666666666666666667\" cy=\"108.3466666666666666666666667\" r=\"3\" fill=\"rgb(239, 232, 150)\"/><circle cx=\"245.3866666666666666666666667\" cy=\"438.1666666666666666666666667\" r=\"3\" fill=\"rgb(107, 25, 150)\"/><circle cx=\"52.74666666666666666666666667\" cy=\"452.5066666666666666666666667\" r=\"3\" fill=\"rgb(23, 16, 150)\"/><circle cx=\"426.56\" cy=\"261.3066666666666666666666667\" r=\"3\" fill=\"rgb(186, 136, 150)\"/><circle cx=\"325.6533333333333333333333333\" cy=\"216.6933333333333333333333333\" r=\"3\" fill=\"rgb(142, 164, 150)\"/><circle cx=\"84.85333333333333333333333331\" cy=\"100.38\" r=\"3\" fill=\"rgb(37, 237, 150)\"/><circle cx=\"332.5333333333333333333333333\" cy=\"323.4466666666666666666666667\" r=\"3\" fill=\"rgb(145, 97, 150)\"/><circle cx=\"71.09333333333333333333333331\" cy=\"108.3466666666666666666666667\" r=\"3\" fill=\"rgb(31, 232, 150)\"/><circle cx=\"541.2266666666666666666666667\" cy=\"199.1666666666666666666666667\" r=\"3\" fill=\"rgb(236, 175, 150)\"/><circle cx=\"502.24\" cy=\"258.12\" r=\"3\" fill=\"rgb(219, 138, 150)\"/><circle cx=\"146.7733333333333333333333333\" cy=\"376.0266666666666666666666667\" r=\"3\" fill=\"rgb(64, 64, 150)\"/><circle cx=\"330.24\" cy=\"325.04\" r=\"3\" fill=\"rgb(144, 96, 150)\"/><circle cx=\"98.61333333333333333333333331\" cy=\"393.5533333333333333333333333\" r=\"3\" fill=\"rgb(43, 53, 150)\"/><circle cx=\"557.28\" cy=\"369.6533333333333333333333333\" r=\"3\" fill=\"rgb(243, 68, 150)\"/></g></g></g></g></g></g></svg>"
      ],
      "text/plain": [
       "<IPython.core.display.SVG object>"
      ]
     },
     "execution_count": 28,
     "metadata": {},
     "output_type": "execute_result"
    }
   ],
   "source": [
    "import random\n",
    "data = [(random.randint(0, 250),\n",
    "        random.randint(0,250)) for i in range(100)]\n",
    "\n",
    "def colorizer(location):\n",
    "    return 'rgb(%i, %i, %i)' % (location.x, location.y, 150)\n",
    "chart = leather.Chart('Colorized dots')\n",
    "chart.add_dots(data, fill_color=colorizer)\n",
    "chart.to_svg()"
   ]
  },
  {
   "cell_type": "code",
   "execution_count": null,
   "metadata": {},
   "outputs": [],
   "source": []
  }
 ],
 "metadata": {
  "kernelspec": {
   "display_name": "Python 3",
   "language": "python",
   "name": "python3"
  },
  "language_info": {
   "codemirror_mode": {
    "name": "ipython",
    "version": 3
   },
   "file_extension": ".py",
   "mimetype": "text/x-python",
   "name": "python",
   "nbconvert_exporter": "python",
   "pygments_lexer": "ipython3",
   "version": "3.8.5"
  }
 },
 "nbformat": 4,
 "nbformat_minor": 4
}
